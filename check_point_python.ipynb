{
  "nbformat": 4,
  "nbformat_minor": 0,
  "metadata": {
    "colab": {
      "name": "check_point_python.ipynb",
      "provenance": [],
      "collapsed_sections": [],
      "authorship_tag": "ABX9TyNrJ+tBX/YRU4emZ+DOTotq",
      "include_colab_link": true
    },
    "kernelspec": {
      "name": "python3",
      "display_name": "Python 3"
    },
    "language_info": {
      "name": "python"
    }
  },
  "cells": [
    {
      "cell_type": "markdown",
      "metadata": {
        "id": "view-in-github",
        "colab_type": "text"
      },
      "source": [
        "<a href=\"https://colab.research.google.com/github/Bouchrikator/sic-/blob/main/check_point_python.ipynb\" target=\"_parent\"><img src=\"https://colab.research.google.com/assets/colab-badge.svg\" alt=\"Open In Colab\"/></a>"
      ]
    },
    {
      "cell_type": "markdown",
      "source": [
        "Question 1\n",
        "\n",
        "Write a program that will find all numbers which are divisible by 7 but are not a multiple of 5, between 2000 and 3200 (both included). The numbers obtained should be printed in a list.\n",
        "\n",
        "Hint: Consider using the range(#begin, #end) method."
      ],
      "metadata": {
        "id": "IdgF62QdrzQ-"
      }
    },
    {
      "cell_type": "code",
      "execution_count": null,
      "metadata": {
        "colab": {
          "base_uri": "https://localhost:8080/"
        },
        "id": "d1IvBgPkrXy_",
        "outputId": "1124dcf6-22ab-4c21-8e51-f777a5f0def4"
      },
      "outputs": [
        {
          "output_type": "stream",
          "name": "stdout",
          "text": [
            "[2030, 2065, 2100, 2135, 2170, 2205, 2240, 2275, 2310, 2345, 2380, 2415, 2450, 2485, 2520, 2555, 2590, 2625, 2660, 2695, 2730, 2765, 2800, 2835, 2870, 2905, 2940, 2975, 3010, 3045, 3080, 3115, 3150, 3185]\n"
          ]
        }
      ],
      "source": [
        "##1:\n",
        "arr2=[]\n",
        "for i in range(2000,3201):\n",
        "  if i% 7 == 0 and i%5 == 0 :\n",
        "    arr2.append(i)\n",
        "##type(arr2)\n",
        "print(arr2)\n",
        "        \n",
        "\n",
        "    "
      ]
    },
    {
      "cell_type": "markdown",
      "source": [
        "Question 2 \n",
        "\n",
        " Write a program that can compute the factorial of a given number. (The factorial of n is the product of all positive integers less than or equal to n.) For example: For factorial(5)= 5 x 4 x 3 x 2 x 1 the result is 120 (i.e. factorial (0)=1)."
      ],
      "metadata": {
        "id": "A27AmiLy40r3"
      }
    },
    {
      "cell_type": "code",
      "source": [
        "##2\n",
        "def factorielle(n):\n",
        "    if n == 0:\n",
        "        return 1\n",
        "    else:\n",
        "        return n  * factorielle(n-1)\n",
        "\n",
        "factorielle(9)"
      ],
      "metadata": {
        "colab": {
          "base_uri": "https://localhost:8080/"
        },
        "id": "Jw1MPhcuvV6m",
        "outputId": "1ad6f2f7-9684-4111-9d14-ef773a0259c7"
      },
      "execution_count": null,
      "outputs": [
        {
          "output_type": "execute_result",
          "data": {
            "text/plain": [
              "362880"
            ]
          },
          "metadata": {},
          "execution_count": 73
        }
      ]
    },
    {
      "cell_type": "markdown",
      "source": [
        "Question 3 \n",
        "\n",
        "With a given integer number n, write a program to generate a dictionary that contains (i, i*i) such that is an integral number between 1 and n (both included). Then, the program should print the dictionary. Suppose the following input is supplied to the program: 8 Then, the output should be: {1: 1, 2: 4, 3: 9, 4: 16, 5: 25, 6: 36, 7: 49, 8: 64}  "
      ],
      "metadata": {
        "id": "s2VBkPL747xf"
      }
    },
    {
      "cell_type": "code",
      "source": [
        "dic={}\n",
        "for i in range (6):\n",
        "  n=int(input())\n",
        "  dic[n]=n*n\n",
        "dic"
      ],
      "metadata": {
        "id": "9P7FD-be42rQ",
        "colab": {
          "base_uri": "https://localhost:8080/"
        },
        "outputId": "829d2fa2-8721-444a-c445-bec76c657b50"
      },
      "execution_count": null,
      "outputs": [
        {
          "name": "stdout",
          "output_type": "stream",
          "text": [
            "6\n",
            "7\n",
            "5\n",
            "8\n",
            "2\n",
            "1\n"
          ]
        },
        {
          "output_type": "execute_result",
          "data": {
            "text/plain": [
              "{1: 1, 2: 4, 5: 25, 6: 36, 7: 49, 8: 64}"
            ]
          },
          "metadata": {},
          "execution_count": 20
        }
      ]
    },
    {
      "cell_type": "code",
      "source": [
        "dic"
      ],
      "metadata": {
        "colab": {
          "base_uri": "https://localhost:8080/"
        },
        "id": "iYyFeCRaUKuC",
        "outputId": "badb9e7d-469e-49f9-e0f3-3c2fc0fb1cce"
      },
      "execution_count": null,
      "outputs": [
        {
          "output_type": "execute_result",
          "data": {
            "text/plain": [
              "{1: 1, 2: 4, 4: 16, 5: 25, 6: 36, 7: 49}"
            ]
          },
          "metadata": {},
          "execution_count": 19
        }
      ]
    },
    {
      "cell_type": "markdown",
      "source": [
        "Given a non-empty string and an integral n, return a new string where the char at index n has been removed. The value of n will be a valid index of a char in the original string (i.e. n will be in the range 0..len(str)-1 inclusive). \n",
        "\n",
        "missing_char('kitten', 1) → 'ktten'    for example here we remove \"i\" which is located in the index 1\n",
        "\n",
        "missing_char('kitten', 0) → 'itten'   here we remove \"k\" which is in the index 0\n",
        "\n",
        "missing_char('kitten', 4) → 'kittn'   here we remove \"e\" which is in the index 4"
      ],
      "metadata": {
        "id": "w1tx3VGPFs12"
      }
    },
    {
      "cell_type": "code",
      "source": [
        "def boucherika() :\n",
        "  s=str(input())\n",
        "  n=int(input())\n",
        "  return s[:n]+s[n+1:]   \n",
        "boucherika()\n",
        "  "
      ],
      "metadata": {
        "colab": {
          "base_uri": "https://localhost:8080/",
          "height": 70
        },
        "id": "jng-EWuWIQ1y",
        "outputId": "5a15dbed-6a34-428d-da0c-b917aa435d92"
      },
      "execution_count": 31,
      "outputs": [
        {
          "name": "stdout",
          "output_type": "stream",
          "text": [
            "BNNJ\n",
            "2\n"
          ]
        },
        {
          "output_type": "execute_result",
          "data": {
            "text/plain": [
              "'BNJ'"
            ],
            "application/vnd.google.colaboratory.intrinsic+json": {
              "type": "string"
            }
          },
          "metadata": {},
          "execution_count": 31
        }
      ]
    },
    {
      "cell_type": "markdown",
      "source": [
        "Question 5 \n",
        "\n",
        "Write a NumPy program to convert a NumPy array into a Python list structure.\n",
        "\n",
        "Expected output: \n",
        "\n",
        "Original array elements: [[0 1] [2 3] [4 5]] \n",
        "\n",
        "Array to list: [[0, 1], [2, 3], [4, 5]] \n",
        " \n",
        "\n",
        "Hint: We can use the to_list() function to ensure the conversion."
      ],
      "metadata": {
        "id": "U6WMZ56bMJEK"
      }
    },
    {
      "cell_type": "code",
      "source": [
        "import numpy as np \n",
        "c=np.array([[0,1] , [2,3] , [4,5]])\n",
        "list(c)\n",
        "c.tolist()"
      ],
      "metadata": {
        "colab": {
          "base_uri": "https://localhost:8080/"
        },
        "id": "nJ5KFnNzMRVD",
        "outputId": "b2df436c-a81b-46a9-999e-c3602cf1136f"
      },
      "execution_count": 32,
      "outputs": [
        {
          "output_type": "execute_result",
          "data": {
            "text/plain": [
              "[[0, 1], [2, 3], [4, 5]]"
            ]
          },
          "metadata": {},
          "execution_count": 32
        }
      ]
    },
    {
      "cell_type": "markdown",
      "source": [
        "Question 6\n",
        "\n",
        "Write a NumPy program to compute the covariance matrix of two given arrays. \n",
        "\n",
        "Original array1: [0 1 2] \n",
        "\n",
        "Original array2: [2 1 0] \n",
        "\n",
        "Covariance matrix of the said arrays: [[ 1. -1.] [-1. 1.]]\n",
        " \n",
        "\n",
        "Hint: We can use the np.cov() function to calculate the covariance between these two arrays"
      ],
      "metadata": {
        "id": "fHp7ndMlMzpj"
      }
    },
    {
      "cell_type": "code",
      "source": [
        "A=np.array([[0,1,2],[2,1,0]])\n",
        "np.cov(A)\n"
      ],
      "metadata": {
        "colab": {
          "base_uri": "https://localhost:8080/"
        },
        "id": "51xKT79UM2Sb",
        "outputId": "0b515fd4-a2e4-42ac-d451-83e591ef800f"
      },
      "execution_count": 14,
      "outputs": [
        {
          "output_type": "execute_result",
          "data": {
            "text/plain": [
              "array([[ 1., -1.],\n",
              "       [-1.,  1.]])"
            ]
          },
          "metadata": {},
          "execution_count": 14
        }
      ]
    },
    {
      "cell_type": "markdown",
      "source": [
        "Question 7\n",
        "\n",
        "Question: Write a program that calculates and prints the value according to the given formula: Q= Square root of [(2 * C * D)/H] \n",
        "\n",
        "The following are the fixed values of C and H: C is 50. H is 30. \n",
        "\n",
        "D is the variable whose values should be input into your program in a comma-separated sequence. (That means D contains more than value)\n",
        "\n",
        "Example: Let's assume the following comma-separated input sequence is given to the program: 100,150,180 The output of the program should be 18,22,24 \n",
        "\n",
        "To further explain this, we will obtain a result for each value of D:  Q1= Square root of [(2 * C * 100)/H] =18, Q2= Square root of [(2 * C * 150)/H] = 22 and Q3 = Square root of [(2 * C * 180)/H]  = 24\n",
        "\n",
        "Hint: If the output received is in decimal form, it should be rounded off to its nearest value. For example, if the output received is 26.0, it should be printed as 26. In case of input data being supplied to the question, it should be assumed to be a console input. "
      ],
      "metadata": {
        "id": "V8iojxgLOkwr"
      }
    },
    {
      "cell_type": "code",
      "source": [
        "import math\n",
        "\n",
        "numbers = input(\"Provide D: \")\n",
        "numbers = numbers.split(',')\n",
        "\n",
        "result_list = []\n",
        "for D in numbers:\n",
        "    Q = round(math.sqrt(2 * 50 * int(D) / 30))\n",
        "    result_list.append(Q)\n",
        "\n",
        "print(result_list)"
      ],
      "metadata": {
        "colab": {
          "base_uri": "https://localhost:8080/"
        },
        "id": "4apDL6GHOqK2",
        "outputId": "1e47c55c-816d-4b62-a4e6-4ac505b8c9b2"
      },
      "execution_count": 3,
      "outputs": [
        {
          "output_type": "stream",
          "name": "stdout",
          "text": [
            "Provide D: 10,34,12\n",
            "[6, 11, 6]\n"
          ]
        }
      ]
    }
  ]
}