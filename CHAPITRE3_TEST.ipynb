{
  "nbformat": 4,
  "nbformat_minor": 0,
  "metadata": {
    "colab": {
      "name": "CHAPITRE3_TEST.ipynb",
      "provenance": [],
      "collapsed_sections": [],
      "authorship_tag": "ABX9TyNK3JNeRQPoErwCcte5lOkk",
      "include_colab_link": true
    },
    "kernelspec": {
      "name": "python3",
      "display_name": "Python 3"
    },
    "language_info": {
      "name": "python"
    }
  },
  "cells": [
    {
      "cell_type": "markdown",
      "metadata": {
        "id": "view-in-github",
        "colab_type": "text"
      },
      "source": [
        "<a href=\"https://colab.research.google.com/github/Bouchrikator/sic-/blob/main/CHAPITRE3_TEST.ipynb\" target=\"_parent\"><img src=\"https://colab.research.google.com/assets/colab-badge.svg\" alt=\"Open In Colab\"/></a>"
      ]
    },
    {
      "cell_type": "code",
      "execution_count": 9,
      "metadata": {
        "colab": {
          "base_uri": "https://localhost:8080/",
          "height": 582
        },
        "id": "Bj_cJOMiGhkm",
        "outputId": "199989c2-e703-45f3-fa60-8b3f36d17bad"
      },
      "outputs": [
        {
          "output_type": "execute_result",
          "data": {
            "text/plain": [
              "                Name Gender  Age  Grade Absence Bloodtype  Height  Weight\n",
              "0      Jared Diamond      M   23      3       Y         O   165.3    68.2\n",
              "1     Sarah O'Donnel      F   22      2       N        AB   170.1    53.0\n",
              "2       Brian Martin      M   24      4       N         B   175.0    80.1\n",
              "3       David Hassel      M   23      3       N        AB   182.1    85.7\n",
              "4    Clara Rodriquez      F   20      1       Y         A   168.0    49.5\n",
              "5   Jennifer Lorentz      F   21      2       N         O   162.0    52.0\n",
              "6        Susan Clark      F   22      1       N         O   155.2    45.3\n",
              "7    Margareth Jones      F   23      1       N         A   176.9    55.0\n",
              "8       John Bertsch      M   23      3       N         B   178.5    64.2\n",
              "9     Jake Timmerman      M   22      2       N         B   176.1    61.3\n",
              "10     Joshua Connor      M   24      4       Y         O   167.1    62.0\n",
              "11      John Matsuda      M   22      2       N        AB   180.0    75.8\n",
              "12      Eddy Johnson      M   21      1       N         A   162.2    55.3\n",
              "13  Rebecah Anderson      F   23      3       N         O   176.1    53.1\n",
              "14      Linda Carter      F   22      2       N         B   158.2    45.2\n",
              "15    Richard Swayze      M   24      4       Y         B   168.6    70.2\n",
              "16       Andrew King      M   21      1       N         A   169.2    62.2"
            ],
            "text/html": [
              "\n",
              "  <div id=\"df-05671ff5-b4a4-450c-8b95-f58724b8e52d\">\n",
              "    <div class=\"colab-df-container\">\n",
              "      <div>\n",
              "<style scoped>\n",
              "    .dataframe tbody tr th:only-of-type {\n",
              "        vertical-align: middle;\n",
              "    }\n",
              "\n",
              "    .dataframe tbody tr th {\n",
              "        vertical-align: top;\n",
              "    }\n",
              "\n",
              "    .dataframe thead th {\n",
              "        text-align: right;\n",
              "    }\n",
              "</style>\n",
              "<table border=\"1\" class=\"dataframe\">\n",
              "  <thead>\n",
              "    <tr style=\"text-align: right;\">\n",
              "      <th></th>\n",
              "      <th>Name</th>\n",
              "      <th>Gender</th>\n",
              "      <th>Age</th>\n",
              "      <th>Grade</th>\n",
              "      <th>Absence</th>\n",
              "      <th>Bloodtype</th>\n",
              "      <th>Height</th>\n",
              "      <th>Weight</th>\n",
              "    </tr>\n",
              "  </thead>\n",
              "  <tbody>\n",
              "    <tr>\n",
              "      <th>0</th>\n",
              "      <td>Jared Diamond</td>\n",
              "      <td>M</td>\n",
              "      <td>23</td>\n",
              "      <td>3</td>\n",
              "      <td>Y</td>\n",
              "      <td>O</td>\n",
              "      <td>165.3</td>\n",
              "      <td>68.2</td>\n",
              "    </tr>\n",
              "    <tr>\n",
              "      <th>1</th>\n",
              "      <td>Sarah O'Donnel</td>\n",
              "      <td>F</td>\n",
              "      <td>22</td>\n",
              "      <td>2</td>\n",
              "      <td>N</td>\n",
              "      <td>AB</td>\n",
              "      <td>170.1</td>\n",
              "      <td>53.0</td>\n",
              "    </tr>\n",
              "    <tr>\n",
              "      <th>2</th>\n",
              "      <td>Brian Martin</td>\n",
              "      <td>M</td>\n",
              "      <td>24</td>\n",
              "      <td>4</td>\n",
              "      <td>N</td>\n",
              "      <td>B</td>\n",
              "      <td>175.0</td>\n",
              "      <td>80.1</td>\n",
              "    </tr>\n",
              "    <tr>\n",
              "      <th>3</th>\n",
              "      <td>David Hassel</td>\n",
              "      <td>M</td>\n",
              "      <td>23</td>\n",
              "      <td>3</td>\n",
              "      <td>N</td>\n",
              "      <td>AB</td>\n",
              "      <td>182.1</td>\n",
              "      <td>85.7</td>\n",
              "    </tr>\n",
              "    <tr>\n",
              "      <th>4</th>\n",
              "      <td>Clara Rodriquez</td>\n",
              "      <td>F</td>\n",
              "      <td>20</td>\n",
              "      <td>1</td>\n",
              "      <td>Y</td>\n",
              "      <td>A</td>\n",
              "      <td>168.0</td>\n",
              "      <td>49.5</td>\n",
              "    </tr>\n",
              "    <tr>\n",
              "      <th>5</th>\n",
              "      <td>Jennifer Lorentz</td>\n",
              "      <td>F</td>\n",
              "      <td>21</td>\n",
              "      <td>2</td>\n",
              "      <td>N</td>\n",
              "      <td>O</td>\n",
              "      <td>162.0</td>\n",
              "      <td>52.0</td>\n",
              "    </tr>\n",
              "    <tr>\n",
              "      <th>6</th>\n",
              "      <td>Susan Clark</td>\n",
              "      <td>F</td>\n",
              "      <td>22</td>\n",
              "      <td>1</td>\n",
              "      <td>N</td>\n",
              "      <td>O</td>\n",
              "      <td>155.2</td>\n",
              "      <td>45.3</td>\n",
              "    </tr>\n",
              "    <tr>\n",
              "      <th>7</th>\n",
              "      <td>Margareth Jones</td>\n",
              "      <td>F</td>\n",
              "      <td>23</td>\n",
              "      <td>1</td>\n",
              "      <td>N</td>\n",
              "      <td>A</td>\n",
              "      <td>176.9</td>\n",
              "      <td>55.0</td>\n",
              "    </tr>\n",
              "    <tr>\n",
              "      <th>8</th>\n",
              "      <td>John Bertsch</td>\n",
              "      <td>M</td>\n",
              "      <td>23</td>\n",
              "      <td>3</td>\n",
              "      <td>N</td>\n",
              "      <td>B</td>\n",
              "      <td>178.5</td>\n",
              "      <td>64.2</td>\n",
              "    </tr>\n",
              "    <tr>\n",
              "      <th>9</th>\n",
              "      <td>Jake Timmerman</td>\n",
              "      <td>M</td>\n",
              "      <td>22</td>\n",
              "      <td>2</td>\n",
              "      <td>N</td>\n",
              "      <td>B</td>\n",
              "      <td>176.1</td>\n",
              "      <td>61.3</td>\n",
              "    </tr>\n",
              "    <tr>\n",
              "      <th>10</th>\n",
              "      <td>Joshua Connor</td>\n",
              "      <td>M</td>\n",
              "      <td>24</td>\n",
              "      <td>4</td>\n",
              "      <td>Y</td>\n",
              "      <td>O</td>\n",
              "      <td>167.1</td>\n",
              "      <td>62.0</td>\n",
              "    </tr>\n",
              "    <tr>\n",
              "      <th>11</th>\n",
              "      <td>John Matsuda</td>\n",
              "      <td>M</td>\n",
              "      <td>22</td>\n",
              "      <td>2</td>\n",
              "      <td>N</td>\n",
              "      <td>AB</td>\n",
              "      <td>180.0</td>\n",
              "      <td>75.8</td>\n",
              "    </tr>\n",
              "    <tr>\n",
              "      <th>12</th>\n",
              "      <td>Eddy Johnson</td>\n",
              "      <td>M</td>\n",
              "      <td>21</td>\n",
              "      <td>1</td>\n",
              "      <td>N</td>\n",
              "      <td>A</td>\n",
              "      <td>162.2</td>\n",
              "      <td>55.3</td>\n",
              "    </tr>\n",
              "    <tr>\n",
              "      <th>13</th>\n",
              "      <td>Rebecah Anderson</td>\n",
              "      <td>F</td>\n",
              "      <td>23</td>\n",
              "      <td>3</td>\n",
              "      <td>N</td>\n",
              "      <td>O</td>\n",
              "      <td>176.1</td>\n",
              "      <td>53.1</td>\n",
              "    </tr>\n",
              "    <tr>\n",
              "      <th>14</th>\n",
              "      <td>Linda Carter</td>\n",
              "      <td>F</td>\n",
              "      <td>22</td>\n",
              "      <td>2</td>\n",
              "      <td>N</td>\n",
              "      <td>B</td>\n",
              "      <td>158.2</td>\n",
              "      <td>45.2</td>\n",
              "    </tr>\n",
              "    <tr>\n",
              "      <th>15</th>\n",
              "      <td>Richard Swayze</td>\n",
              "      <td>M</td>\n",
              "      <td>24</td>\n",
              "      <td>4</td>\n",
              "      <td>Y</td>\n",
              "      <td>B</td>\n",
              "      <td>168.6</td>\n",
              "      <td>70.2</td>\n",
              "    </tr>\n",
              "    <tr>\n",
              "      <th>16</th>\n",
              "      <td>Andrew King</td>\n",
              "      <td>M</td>\n",
              "      <td>21</td>\n",
              "      <td>1</td>\n",
              "      <td>N</td>\n",
              "      <td>A</td>\n",
              "      <td>169.2</td>\n",
              "      <td>62.2</td>\n",
              "    </tr>\n",
              "  </tbody>\n",
              "</table>\n",
              "</div>\n",
              "      <button class=\"colab-df-convert\" onclick=\"convertToInteractive('df-05671ff5-b4a4-450c-8b95-f58724b8e52d')\"\n",
              "              title=\"Convert this dataframe to an interactive table.\"\n",
              "              style=\"display:none;\">\n",
              "        \n",
              "  <svg xmlns=\"http://www.w3.org/2000/svg\" height=\"24px\"viewBox=\"0 0 24 24\"\n",
              "       width=\"24px\">\n",
              "    <path d=\"M0 0h24v24H0V0z\" fill=\"none\"/>\n",
              "    <path d=\"M18.56 5.44l.94 2.06.94-2.06 2.06-.94-2.06-.94-.94-2.06-.94 2.06-2.06.94zm-11 1L8.5 8.5l.94-2.06 2.06-.94-2.06-.94L8.5 2.5l-.94 2.06-2.06.94zm10 10l.94 2.06.94-2.06 2.06-.94-2.06-.94-.94-2.06-.94 2.06-2.06.94z\"/><path d=\"M17.41 7.96l-1.37-1.37c-.4-.4-.92-.59-1.43-.59-.52 0-1.04.2-1.43.59L10.3 9.45l-7.72 7.72c-.78.78-.78 2.05 0 2.83L4 21.41c.39.39.9.59 1.41.59.51 0 1.02-.2 1.41-.59l7.78-7.78 2.81-2.81c.8-.78.8-2.07 0-2.86zM5.41 20L4 18.59l7.72-7.72 1.47 1.35L5.41 20z\"/>\n",
              "  </svg>\n",
              "      </button>\n",
              "      \n",
              "  <style>\n",
              "    .colab-df-container {\n",
              "      display:flex;\n",
              "      flex-wrap:wrap;\n",
              "      gap: 12px;\n",
              "    }\n",
              "\n",
              "    .colab-df-convert {\n",
              "      background-color: #E8F0FE;\n",
              "      border: none;\n",
              "      border-radius: 50%;\n",
              "      cursor: pointer;\n",
              "      display: none;\n",
              "      fill: #1967D2;\n",
              "      height: 32px;\n",
              "      padding: 0 0 0 0;\n",
              "      width: 32px;\n",
              "    }\n",
              "\n",
              "    .colab-df-convert:hover {\n",
              "      background-color: #E2EBFA;\n",
              "      box-shadow: 0px 1px 2px rgba(60, 64, 67, 0.3), 0px 1px 3px 1px rgba(60, 64, 67, 0.15);\n",
              "      fill: #174EA6;\n",
              "    }\n",
              "\n",
              "    [theme=dark] .colab-df-convert {\n",
              "      background-color: #3B4455;\n",
              "      fill: #D2E3FC;\n",
              "    }\n",
              "\n",
              "    [theme=dark] .colab-df-convert:hover {\n",
              "      background-color: #434B5C;\n",
              "      box-shadow: 0px 1px 3px 1px rgba(0, 0, 0, 0.15);\n",
              "      filter: drop-shadow(0px 1px 2px rgba(0, 0, 0, 0.3));\n",
              "      fill: #FFFFFF;\n",
              "    }\n",
              "  </style>\n",
              "\n",
              "      <script>\n",
              "        const buttonEl =\n",
              "          document.querySelector('#df-05671ff5-b4a4-450c-8b95-f58724b8e52d button.colab-df-convert');\n",
              "        buttonEl.style.display =\n",
              "          google.colab.kernel.accessAllowed ? 'block' : 'none';\n",
              "\n",
              "        async function convertToInteractive(key) {\n",
              "          const element = document.querySelector('#df-05671ff5-b4a4-450c-8b95-f58724b8e52d');\n",
              "          const dataTable =\n",
              "            await google.colab.kernel.invokeFunction('convertToInteractive',\n",
              "                                                     [key], {});\n",
              "          if (!dataTable) return;\n",
              "\n",
              "          const docLinkHtml = 'Like what you see? Visit the ' +\n",
              "            '<a target=\"_blank\" href=https://colab.research.google.com/notebooks/data_table.ipynb>data table notebook</a>'\n",
              "            + ' to learn more about interactive tables.';\n",
              "          element.innerHTML = '';\n",
              "          dataTable['output_type'] = 'display_data';\n",
              "          await google.colab.output.renderOutput(dataTable, element);\n",
              "          const docLink = document.createElement('div');\n",
              "          docLink.innerHTML = docLinkHtml;\n",
              "          element.appendChild(docLink);\n",
              "        }\n",
              "      </script>\n",
              "    </div>\n",
              "  </div>\n",
              "  "
            ]
          },
          "metadata": {},
          "execution_count": 9
        }
      ],
      "source": [
        "import pandas as pd\n",
        "import os\n",
        "\n",
        "\n",
        "# Go to the directory where the data file is located. \n",
        "# os.chdir(r'~~')                # Please, replace the path with your own.\n",
        "df = pd.read_csv('data_studentlist.csv', header='infer')\n",
        "df\n"
      ]
    },
    {
      "cell_type": "markdown",
      "source": [
        "1) Average height of the male students:\n"
      ],
      "metadata": {
        "id": "E38d7H66HlF7"
      }
    },
    {
      "cell_type": "code",
      "source": [
        "df[df['Gender']=='M']['Height'].mean()"
      ],
      "metadata": {
        "colab": {
          "base_uri": "https://localhost:8080/"
        },
        "id": "w4K3VOspHtaf",
        "outputId": "0e8b3acf-ed31-4df8-9a1e-c84b5959932d"
      },
      "execution_count": 10,
      "outputs": [
        {
          "output_type": "execute_result",
          "data": {
            "text/plain": [
              "172.41000000000003"
            ]
          },
          "metadata": {},
          "execution_count": 10
        }
      ]
    },
    {
      "cell_type": "markdown",
      "source": [
        "2) Average height of the female students:\n"
      ],
      "metadata": {
        "id": "bMHiPPKmIXvj"
      }
    },
    {
      "cell_type": "code",
      "source": [
        "df[df['Gender']=='F']['Height'].mean()"
      ],
      "metadata": {
        "colab": {
          "base_uri": "https://localhost:8080/"
        },
        "id": "Y6WfgnmBIcle",
        "outputId": "2b1d5899-62ce-46bb-8479-84a058b30567"
      },
      "execution_count": 11,
      "outputs": [
        {
          "output_type": "execute_result",
          "data": {
            "text/plain": [
              "166.64285714285714"
            ]
          },
          "metadata": {},
          "execution_count": 11
        }
      ]
    },
    {
      "cell_type": "markdown",
      "source": [
        "3) Average weight of the male students:"
      ],
      "metadata": {
        "id": "yCmBrXxsIgHX"
      }
    },
    {
      "cell_type": "code",
      "source": [
        "df[df['Gender']=='M']['Weight'].mean()"
      ],
      "metadata": {
        "colab": {
          "base_uri": "https://localhost:8080/"
        },
        "id": "ZCDXP2J4Ik0e",
        "outputId": "69e12efd-0a7d-48fe-d036-3c577a534d09"
      },
      "execution_count": 12,
      "outputs": [
        {
          "output_type": "execute_result",
          "data": {
            "text/plain": [
              "68.50000000000001"
            ]
          },
          "metadata": {},
          "execution_count": 12
        }
      ]
    },
    {
      "cell_type": "markdown",
      "source": [
        "4) Average weight of the female students:"
      ],
      "metadata": {
        "id": "6-F71j3dItMT"
      }
    },
    {
      "cell_type": "code",
      "source": [
        "df[df['Gender']=='F']['Weight'].mean()"
      ],
      "metadata": {
        "colab": {
          "base_uri": "https://localhost:8080/"
        },
        "id": "ipgqDzyFIsh3",
        "outputId": "7fbdc31b-5950-44ee-aec0-043ad8de3ff0"
      },
      "execution_count": 13,
      "outputs": [
        {
          "output_type": "execute_result",
          "data": {
            "text/plain": [
              "50.44285714285714"
            ]
          },
          "metadata": {},
          "execution_count": 13
        }
      ]
    },
    {
      "cell_type": "markdown",
      "source": [
        "5) The tallest height among the male students:"
      ],
      "metadata": {
        "id": "I5eHzU4uIxh5"
      }
    },
    {
      "cell_type": "code",
      "source": [
        "df[df['Gender']=='M']['Height'].max()"
      ],
      "metadata": {
        "colab": {
          "base_uri": "https://localhost:8080/"
        },
        "id": "-PAXrbg7I3Iu",
        "outputId": "5115bb34-9f76-468c-bcfa-e3c11d3e3646"
      },
      "execution_count": 14,
      "outputs": [
        {
          "output_type": "execute_result",
          "data": {
            "text/plain": [
              "182.1"
            ]
          },
          "metadata": {},
          "execution_count": 14
        }
      ]
    },
    {
      "cell_type": "markdown",
      "source": [
        "6) The shortest height among the female students:"
      ],
      "metadata": {
        "id": "9F1Ixn_HJDG7"
      }
    },
    {
      "cell_type": "code",
      "source": [
        "df[df['Gender']=='F']['Height'].min()"
      ],
      "metadata": {
        "colab": {
          "base_uri": "https://localhost:8080/"
        },
        "id": "q2CInHdRJD-q",
        "outputId": "11b0adad-9b61-4bf6-bb4f-ea321e576bdd"
      },
      "execution_count": 15,
      "outputs": [
        {
          "output_type": "execute_result",
          "data": {
            "text/plain": [
              "155.2"
            ]
          },
          "metadata": {},
          "execution_count": 15
        }
      ]
    },
    {
      "cell_type": "markdown",
      "source": [
        "7) The lightest weight among the male students of height taller than 175cm:"
      ],
      "metadata": {
        "id": "vMXCC2M7JH__"
      }
    },
    {
      "cell_type": "code",
      "source": [
        "df[df['Gender']=='M'][df['Height']>175]['Weight'].min()"
      ],
      "metadata": {
        "colab": {
          "base_uri": "https://localhost:8080/"
        },
        "id": "e-i-sBT5JLoI",
        "outputId": "57e7313a-f95c-45fb-c8ed-18f3d9fc83ac"
      },
      "execution_count": 20,
      "outputs": [
        {
          "output_type": "stream",
          "name": "stderr",
          "text": [
            "/usr/local/lib/python3.7/dist-packages/ipykernel_launcher.py:1: UserWarning: Boolean Series key will be reindexed to match DataFrame index.\n",
            "  \"\"\"Entry point for launching an IPython kernel.\n"
          ]
        },
        {
          "output_type": "execute_result",
          "data": {
            "text/plain": [
              "61.3"
            ]
          },
          "metadata": {},
          "execution_count": 20
        }
      ]
    },
    {
      "cell_type": "markdown",
      "source": [
        "8) The heaviest weight among the female students of height shorter than 160cm:"
      ],
      "metadata": {
        "id": "GVJFHgy-Js1S"
      }
    },
    {
      "cell_type": "code",
      "source": [
        "df[df['Gender']=='F'][df['Height']<160]['Weight'].max()"
      ],
      "metadata": {
        "colab": {
          "base_uri": "https://localhost:8080/"
        },
        "id": "PTnPiaG8Jv2E",
        "outputId": "a5d13e22-9030-4a0b-bf65-ce5f36d47a6a"
      },
      "execution_count": 21,
      "outputs": [
        {
          "output_type": "stream",
          "name": "stderr",
          "text": [
            "/usr/local/lib/python3.7/dist-packages/ipykernel_launcher.py:1: UserWarning: Boolean Series key will be reindexed to match DataFrame index.\n",
            "  \"\"\"Entry point for launching an IPython kernel.\n"
          ]
        },
        {
          "output_type": "execute_result",
          "data": {
            "text/plain": [
              "45.3"
            ]
          },
          "metadata": {},
          "execution_count": 21
        }
      ]
    },
    {
      "cell_type": "markdown",
      "source": [
        "9) The average grade of students without absence ('N'):"
      ],
      "metadata": {
        "id": "CgJJhT-iKAIF"
      }
    },
    {
      "cell_type": "code",
      "source": [
        "df"
      ],
      "metadata": {
        "colab": {
          "base_uri": "https://localhost:8080/",
          "height": 582
        },
        "id": "-58gRHDTKhTw",
        "outputId": "1f344684-e9b0-47c7-c17f-0a1fccf1ecb3"
      },
      "execution_count": 22,
      "outputs": [
        {
          "output_type": "execute_result",
          "data": {
            "text/plain": [
              "                Name Gender  Age  Grade Absence Bloodtype  Height  Weight\n",
              "0      Jared Diamond      M   23      3       Y         O   165.3    68.2\n",
              "1     Sarah O'Donnel      F   22      2       N        AB   170.1    53.0\n",
              "2       Brian Martin      M   24      4       N         B   175.0    80.1\n",
              "3       David Hassel      M   23      3       N        AB   182.1    85.7\n",
              "4    Clara Rodriquez      F   20      1       Y         A   168.0    49.5\n",
              "5   Jennifer Lorentz      F   21      2       N         O   162.0    52.0\n",
              "6        Susan Clark      F   22      1       N         O   155.2    45.3\n",
              "7    Margareth Jones      F   23      1       N         A   176.9    55.0\n",
              "8       John Bertsch      M   23      3       N         B   178.5    64.2\n",
              "9     Jake Timmerman      M   22      2       N         B   176.1    61.3\n",
              "10     Joshua Connor      M   24      4       Y         O   167.1    62.0\n",
              "11      John Matsuda      M   22      2       N        AB   180.0    75.8\n",
              "12      Eddy Johnson      M   21      1       N         A   162.2    55.3\n",
              "13  Rebecah Anderson      F   23      3       N         O   176.1    53.1\n",
              "14      Linda Carter      F   22      2       N         B   158.2    45.2\n",
              "15    Richard Swayze      M   24      4       Y         B   168.6    70.2\n",
              "16       Andrew King      M   21      1       N         A   169.2    62.2"
            ],
            "text/html": [
              "\n",
              "  <div id=\"df-b66b1c5f-1b91-42d0-a90f-7d3fe5c5cb8f\">\n",
              "    <div class=\"colab-df-container\">\n",
              "      <div>\n",
              "<style scoped>\n",
              "    .dataframe tbody tr th:only-of-type {\n",
              "        vertical-align: middle;\n",
              "    }\n",
              "\n",
              "    .dataframe tbody tr th {\n",
              "        vertical-align: top;\n",
              "    }\n",
              "\n",
              "    .dataframe thead th {\n",
              "        text-align: right;\n",
              "    }\n",
              "</style>\n",
              "<table border=\"1\" class=\"dataframe\">\n",
              "  <thead>\n",
              "    <tr style=\"text-align: right;\">\n",
              "      <th></th>\n",
              "      <th>Name</th>\n",
              "      <th>Gender</th>\n",
              "      <th>Age</th>\n",
              "      <th>Grade</th>\n",
              "      <th>Absence</th>\n",
              "      <th>Bloodtype</th>\n",
              "      <th>Height</th>\n",
              "      <th>Weight</th>\n",
              "    </tr>\n",
              "  </thead>\n",
              "  <tbody>\n",
              "    <tr>\n",
              "      <th>0</th>\n",
              "      <td>Jared Diamond</td>\n",
              "      <td>M</td>\n",
              "      <td>23</td>\n",
              "      <td>3</td>\n",
              "      <td>Y</td>\n",
              "      <td>O</td>\n",
              "      <td>165.3</td>\n",
              "      <td>68.2</td>\n",
              "    </tr>\n",
              "    <tr>\n",
              "      <th>1</th>\n",
              "      <td>Sarah O'Donnel</td>\n",
              "      <td>F</td>\n",
              "      <td>22</td>\n",
              "      <td>2</td>\n",
              "      <td>N</td>\n",
              "      <td>AB</td>\n",
              "      <td>170.1</td>\n",
              "      <td>53.0</td>\n",
              "    </tr>\n",
              "    <tr>\n",
              "      <th>2</th>\n",
              "      <td>Brian Martin</td>\n",
              "      <td>M</td>\n",
              "      <td>24</td>\n",
              "      <td>4</td>\n",
              "      <td>N</td>\n",
              "      <td>B</td>\n",
              "      <td>175.0</td>\n",
              "      <td>80.1</td>\n",
              "    </tr>\n",
              "    <tr>\n",
              "      <th>3</th>\n",
              "      <td>David Hassel</td>\n",
              "      <td>M</td>\n",
              "      <td>23</td>\n",
              "      <td>3</td>\n",
              "      <td>N</td>\n",
              "      <td>AB</td>\n",
              "      <td>182.1</td>\n",
              "      <td>85.7</td>\n",
              "    </tr>\n",
              "    <tr>\n",
              "      <th>4</th>\n",
              "      <td>Clara Rodriquez</td>\n",
              "      <td>F</td>\n",
              "      <td>20</td>\n",
              "      <td>1</td>\n",
              "      <td>Y</td>\n",
              "      <td>A</td>\n",
              "      <td>168.0</td>\n",
              "      <td>49.5</td>\n",
              "    </tr>\n",
              "    <tr>\n",
              "      <th>5</th>\n",
              "      <td>Jennifer Lorentz</td>\n",
              "      <td>F</td>\n",
              "      <td>21</td>\n",
              "      <td>2</td>\n",
              "      <td>N</td>\n",
              "      <td>O</td>\n",
              "      <td>162.0</td>\n",
              "      <td>52.0</td>\n",
              "    </tr>\n",
              "    <tr>\n",
              "      <th>6</th>\n",
              "      <td>Susan Clark</td>\n",
              "      <td>F</td>\n",
              "      <td>22</td>\n",
              "      <td>1</td>\n",
              "      <td>N</td>\n",
              "      <td>O</td>\n",
              "      <td>155.2</td>\n",
              "      <td>45.3</td>\n",
              "    </tr>\n",
              "    <tr>\n",
              "      <th>7</th>\n",
              "      <td>Margareth Jones</td>\n",
              "      <td>F</td>\n",
              "      <td>23</td>\n",
              "      <td>1</td>\n",
              "      <td>N</td>\n",
              "      <td>A</td>\n",
              "      <td>176.9</td>\n",
              "      <td>55.0</td>\n",
              "    </tr>\n",
              "    <tr>\n",
              "      <th>8</th>\n",
              "      <td>John Bertsch</td>\n",
              "      <td>M</td>\n",
              "      <td>23</td>\n",
              "      <td>3</td>\n",
              "      <td>N</td>\n",
              "      <td>B</td>\n",
              "      <td>178.5</td>\n",
              "      <td>64.2</td>\n",
              "    </tr>\n",
              "    <tr>\n",
              "      <th>9</th>\n",
              "      <td>Jake Timmerman</td>\n",
              "      <td>M</td>\n",
              "      <td>22</td>\n",
              "      <td>2</td>\n",
              "      <td>N</td>\n",
              "      <td>B</td>\n",
              "      <td>176.1</td>\n",
              "      <td>61.3</td>\n",
              "    </tr>\n",
              "    <tr>\n",
              "      <th>10</th>\n",
              "      <td>Joshua Connor</td>\n",
              "      <td>M</td>\n",
              "      <td>24</td>\n",
              "      <td>4</td>\n",
              "      <td>Y</td>\n",
              "      <td>O</td>\n",
              "      <td>167.1</td>\n",
              "      <td>62.0</td>\n",
              "    </tr>\n",
              "    <tr>\n",
              "      <th>11</th>\n",
              "      <td>John Matsuda</td>\n",
              "      <td>M</td>\n",
              "      <td>22</td>\n",
              "      <td>2</td>\n",
              "      <td>N</td>\n",
              "      <td>AB</td>\n",
              "      <td>180.0</td>\n",
              "      <td>75.8</td>\n",
              "    </tr>\n",
              "    <tr>\n",
              "      <th>12</th>\n",
              "      <td>Eddy Johnson</td>\n",
              "      <td>M</td>\n",
              "      <td>21</td>\n",
              "      <td>1</td>\n",
              "      <td>N</td>\n",
              "      <td>A</td>\n",
              "      <td>162.2</td>\n",
              "      <td>55.3</td>\n",
              "    </tr>\n",
              "    <tr>\n",
              "      <th>13</th>\n",
              "      <td>Rebecah Anderson</td>\n",
              "      <td>F</td>\n",
              "      <td>23</td>\n",
              "      <td>3</td>\n",
              "      <td>N</td>\n",
              "      <td>O</td>\n",
              "      <td>176.1</td>\n",
              "      <td>53.1</td>\n",
              "    </tr>\n",
              "    <tr>\n",
              "      <th>14</th>\n",
              "      <td>Linda Carter</td>\n",
              "      <td>F</td>\n",
              "      <td>22</td>\n",
              "      <td>2</td>\n",
              "      <td>N</td>\n",
              "      <td>B</td>\n",
              "      <td>158.2</td>\n",
              "      <td>45.2</td>\n",
              "    </tr>\n",
              "    <tr>\n",
              "      <th>15</th>\n",
              "      <td>Richard Swayze</td>\n",
              "      <td>M</td>\n",
              "      <td>24</td>\n",
              "      <td>4</td>\n",
              "      <td>Y</td>\n",
              "      <td>B</td>\n",
              "      <td>168.6</td>\n",
              "      <td>70.2</td>\n",
              "    </tr>\n",
              "    <tr>\n",
              "      <th>16</th>\n",
              "      <td>Andrew King</td>\n",
              "      <td>M</td>\n",
              "      <td>21</td>\n",
              "      <td>1</td>\n",
              "      <td>N</td>\n",
              "      <td>A</td>\n",
              "      <td>169.2</td>\n",
              "      <td>62.2</td>\n",
              "    </tr>\n",
              "  </tbody>\n",
              "</table>\n",
              "</div>\n",
              "      <button class=\"colab-df-convert\" onclick=\"convertToInteractive('df-b66b1c5f-1b91-42d0-a90f-7d3fe5c5cb8f')\"\n",
              "              title=\"Convert this dataframe to an interactive table.\"\n",
              "              style=\"display:none;\">\n",
              "        \n",
              "  <svg xmlns=\"http://www.w3.org/2000/svg\" height=\"24px\"viewBox=\"0 0 24 24\"\n",
              "       width=\"24px\">\n",
              "    <path d=\"M0 0h24v24H0V0z\" fill=\"none\"/>\n",
              "    <path d=\"M18.56 5.44l.94 2.06.94-2.06 2.06-.94-2.06-.94-.94-2.06-.94 2.06-2.06.94zm-11 1L8.5 8.5l.94-2.06 2.06-.94-2.06-.94L8.5 2.5l-.94 2.06-2.06.94zm10 10l.94 2.06.94-2.06 2.06-.94-2.06-.94-.94-2.06-.94 2.06-2.06.94z\"/><path d=\"M17.41 7.96l-1.37-1.37c-.4-.4-.92-.59-1.43-.59-.52 0-1.04.2-1.43.59L10.3 9.45l-7.72 7.72c-.78.78-.78 2.05 0 2.83L4 21.41c.39.39.9.59 1.41.59.51 0 1.02-.2 1.41-.59l7.78-7.78 2.81-2.81c.8-.78.8-2.07 0-2.86zM5.41 20L4 18.59l7.72-7.72 1.47 1.35L5.41 20z\"/>\n",
              "  </svg>\n",
              "      </button>\n",
              "      \n",
              "  <style>\n",
              "    .colab-df-container {\n",
              "      display:flex;\n",
              "      flex-wrap:wrap;\n",
              "      gap: 12px;\n",
              "    }\n",
              "\n",
              "    .colab-df-convert {\n",
              "      background-color: #E8F0FE;\n",
              "      border: none;\n",
              "      border-radius: 50%;\n",
              "      cursor: pointer;\n",
              "      display: none;\n",
              "      fill: #1967D2;\n",
              "      height: 32px;\n",
              "      padding: 0 0 0 0;\n",
              "      width: 32px;\n",
              "    }\n",
              "\n",
              "    .colab-df-convert:hover {\n",
              "      background-color: #E2EBFA;\n",
              "      box-shadow: 0px 1px 2px rgba(60, 64, 67, 0.3), 0px 1px 3px 1px rgba(60, 64, 67, 0.15);\n",
              "      fill: #174EA6;\n",
              "    }\n",
              "\n",
              "    [theme=dark] .colab-df-convert {\n",
              "      background-color: #3B4455;\n",
              "      fill: #D2E3FC;\n",
              "    }\n",
              "\n",
              "    [theme=dark] .colab-df-convert:hover {\n",
              "      background-color: #434B5C;\n",
              "      box-shadow: 0px 1px 3px 1px rgba(0, 0, 0, 0.15);\n",
              "      filter: drop-shadow(0px 1px 2px rgba(0, 0, 0, 0.3));\n",
              "      fill: #FFFFFF;\n",
              "    }\n",
              "  </style>\n",
              "\n",
              "      <script>\n",
              "        const buttonEl =\n",
              "          document.querySelector('#df-b66b1c5f-1b91-42d0-a90f-7d3fe5c5cb8f button.colab-df-convert');\n",
              "        buttonEl.style.display =\n",
              "          google.colab.kernel.accessAllowed ? 'block' : 'none';\n",
              "\n",
              "        async function convertToInteractive(key) {\n",
              "          const element = document.querySelector('#df-b66b1c5f-1b91-42d0-a90f-7d3fe5c5cb8f');\n",
              "          const dataTable =\n",
              "            await google.colab.kernel.invokeFunction('convertToInteractive',\n",
              "                                                     [key], {});\n",
              "          if (!dataTable) return;\n",
              "\n",
              "          const docLinkHtml = 'Like what you see? Visit the ' +\n",
              "            '<a target=\"_blank\" href=https://colab.research.google.com/notebooks/data_table.ipynb>data table notebook</a>'\n",
              "            + ' to learn more about interactive tables.';\n",
              "          element.innerHTML = '';\n",
              "          dataTable['output_type'] = 'display_data';\n",
              "          await google.colab.output.renderOutput(dataTable, element);\n",
              "          const docLink = document.createElement('div');\n",
              "          docLink.innerHTML = docLinkHtml;\n",
              "          element.appendChild(docLink);\n",
              "        }\n",
              "      </script>\n",
              "    </div>\n",
              "  </div>\n",
              "  "
            ]
          },
          "metadata": {},
          "execution_count": 22
        }
      ]
    },
    {
      "cell_type": "code",
      "source": [
        "df[df['Absence']=='N']['Grade'].mean()"
      ],
      "metadata": {
        "colab": {
          "base_uri": "https://localhost:8080/"
        },
        "id": "S18_A29sJ4rT",
        "outputId": "c9119406-ff34-44fe-b338-abc7c4b677f3"
      },
      "execution_count": 27,
      "outputs": [
        {
          "output_type": "execute_result",
          "data": {
            "text/plain": [
              "2.076923076923077"
            ]
          },
          "metadata": {},
          "execution_count": 27
        }
      ]
    },
    {
      "cell_type": "markdown",
      "source": [
        "10) The average grade of students with absence ('Y'):"
      ],
      "metadata": {
        "id": "JHIzULewLE1v"
      }
    },
    {
      "cell_type": "code",
      "source": [
        "df[df['Absence']=='Y']['Grade'].mean()"
      ],
      "metadata": {
        "colab": {
          "base_uri": "https://localhost:8080/"
        },
        "id": "zELHNeLfLDnJ",
        "outputId": "329f21c6-5014-41ef-83e7-64aa5fff2581"
      },
      "execution_count": 28,
      "outputs": [
        {
          "output_type": "execute_result",
          "data": {
            "text/plain": [
              "3.0"
            ]
          },
          "metadata": {},
          "execution_count": 28
        }
      ]
    },
    {
      "cell_type": "markdown",
      "source": [
        "11) Average height of the students with blood type 'A' or 'AB':\t"
      ],
      "metadata": {
        "id": "MM0rKW3aLRnh"
      }
    },
    {
      "cell_type": "code",
      "source": [
        "\n",
        "df[(df['Bloodtype']=='A') | (df['Bloodtype']=='AB')]['Height'].mean()\n"
      ],
      "metadata": {
        "colab": {
          "base_uri": "https://localhost:8080/"
        },
        "id": "TmxQ3M2kLVzf",
        "outputId": "b12c56c6-0f78-4350-c472-e48381004b83"
      },
      "execution_count": 40,
      "outputs": [
        {
          "output_type": "execute_result",
          "data": {
            "text/plain": [
              "172.64285714285714"
            ]
          },
          "metadata": {},
          "execution_count": 40
        }
      ]
    },
    {
      "cell_type": "markdown",
      "source": [
        "12) Average height of the male students with blood type 'A' or 'AB':"
      ],
      "metadata": {
        "id": "SVx-WXYdNb-j"
      }
    },
    {
      "cell_type": "code",
      "source": [
        "df[(df['Bloodtype']=='A') | (df['Bloodtype']=='AB')][df['Gender']=='M']['Height'].mean()\n"
      ],
      "metadata": {
        "colab": {
          "base_uri": "https://localhost:8080/"
        },
        "id": "99vnfq9rNgKV",
        "outputId": "f6c5fd19-a2a5-43c5-e460-f3fcf77b7d94"
      },
      "execution_count": 44,
      "outputs": [
        {
          "output_type": "stream",
          "name": "stderr",
          "text": [
            "/usr/local/lib/python3.7/dist-packages/ipykernel_launcher.py:1: UserWarning: Boolean Series key will be reindexed to match DataFrame index.\n",
            "  \"\"\"Entry point for launching an IPython kernel.\n"
          ]
        },
        {
          "output_type": "execute_result",
          "data": {
            "text/plain": [
              "173.375"
            ]
          },
          "metadata": {},
          "execution_count": 44
        }
      ]
    },
    {
      "cell_type": "markdown",
      "source": [
        "13) Average age of the students with absence ('Y') whose grade is equal or larger than 3:"
      ],
      "metadata": {
        "id": "qfqJ46PnN8B1"
      }
    },
    {
      "cell_type": "code",
      "source": [
        "df[df['Absence']=='Y'][df['Grade']>=3]['Age'].mean()"
      ],
      "metadata": {
        "colab": {
          "base_uri": "https://localhost:8080/"
        },
        "id": "MzgQ8M8XN_yy",
        "outputId": "92f376a2-a995-4598-ae7b-8e2aa371f8c6"
      },
      "execution_count": 49,
      "outputs": [
        {
          "output_type": "stream",
          "name": "stderr",
          "text": [
            "/usr/local/lib/python3.7/dist-packages/ipykernel_launcher.py:1: UserWarning: Boolean Series key will be reindexed to match DataFrame index.\n",
            "  \"\"\"Entry point for launching an IPython kernel.\n"
          ]
        },
        {
          "output_type": "execute_result",
          "data": {
            "text/plain": [
              "23.666666666666668"
            ]
          },
          "metadata": {},
          "execution_count": 49
        }
      ]
    },
    {
      "cell_type": "markdown",
      "source": [
        "II.\tAnswer the following questions using Pandas library."
      ],
      "metadata": {
        "id": "4uYkncz7Opmq"
      }
    },
    {
      "cell_type": "code",
      "source": [
        "import pandas as pd\n",
        "import numpy as np\n",
        "import os\n",
        "\n",
        "# Go to the directory where the data file is located. \n",
        "# os.chdir(r'~~')                # Please, replace the path with your own.\n",
        "df = pd.read_csv('data_census.csv', header='infer')\n",
        "df.shape\n",
        "df.head(10) \n"
      ],
      "metadata": {
        "colab": {
          "base_uri": "https://localhost:8080/",
          "height": 363
        },
        "id": "P7WsnscOOtVC",
        "outputId": "a93e3918-55ba-42c2-d634-0b0199b381f4"
      },
      "execution_count": 225,
      "outputs": [
        {
          "output_type": "execute_result",
          "data": {
            "text/plain": [
              "   Province Code  City Code    Population   Households  Person's Household  \\\n",
              "0            109       1001   10,078,850    4,197,478                 2.40   \n",
              "1            109       1188      155,695       72,882                 2.14   \n",
              "2            109       1189      126,817       59,614                 2.13   \n",
              "3            109       1158      235,186      108,138                 2.17   \n",
              "4            109       1105      298,145      126,915                 2.35   \n",
              "5            109       1032      362,197      158,769                 2.28   \n",
              "6            109       1065      362,604      160,110                 2.26   \n",
              "7            109       1190      417,976      177,077                 2.36   \n",
              "8            109       1106      464,176      192,670                 2.41   \n",
              "9            109       1006      333,523      141,325                 2.36   \n",
              "\n",
              "   Gender Ratio  \n",
              "0          0.97  \n",
              "1          0.98  \n",
              "2          1.00  \n",
              "3          0.94  \n",
              "4          0.99  \n",
              "5          0.97  \n",
              "6          1.01  \n",
              "7          1.00  \n",
              "8          0.96  \n",
              "9          0.97  "
            ],
            "text/html": [
              "\n",
              "  <div id=\"df-0226186d-8747-4d61-8c35-f9608a7bfee9\">\n",
              "    <div class=\"colab-df-container\">\n",
              "      <div>\n",
              "<style scoped>\n",
              "    .dataframe tbody tr th:only-of-type {\n",
              "        vertical-align: middle;\n",
              "    }\n",
              "\n",
              "    .dataframe tbody tr th {\n",
              "        vertical-align: top;\n",
              "    }\n",
              "\n",
              "    .dataframe thead th {\n",
              "        text-align: right;\n",
              "    }\n",
              "</style>\n",
              "<table border=\"1\" class=\"dataframe\">\n",
              "  <thead>\n",
              "    <tr style=\"text-align: right;\">\n",
              "      <th></th>\n",
              "      <th>Province Code</th>\n",
              "      <th>City Code</th>\n",
              "      <th>Population</th>\n",
              "      <th>Households</th>\n",
              "      <th>Person's Household</th>\n",
              "      <th>Gender Ratio</th>\n",
              "    </tr>\n",
              "  </thead>\n",
              "  <tbody>\n",
              "    <tr>\n",
              "      <th>0</th>\n",
              "      <td>109</td>\n",
              "      <td>1001</td>\n",
              "      <td>10,078,850</td>\n",
              "      <td>4,197,478</td>\n",
              "      <td>2.40</td>\n",
              "      <td>0.97</td>\n",
              "    </tr>\n",
              "    <tr>\n",
              "      <th>1</th>\n",
              "      <td>109</td>\n",
              "      <td>1188</td>\n",
              "      <td>155,695</td>\n",
              "      <td>72,882</td>\n",
              "      <td>2.14</td>\n",
              "      <td>0.98</td>\n",
              "    </tr>\n",
              "    <tr>\n",
              "      <th>2</th>\n",
              "      <td>109</td>\n",
              "      <td>1189</td>\n",
              "      <td>126,817</td>\n",
              "      <td>59,614</td>\n",
              "      <td>2.13</td>\n",
              "      <td>1.00</td>\n",
              "    </tr>\n",
              "    <tr>\n",
              "      <th>3</th>\n",
              "      <td>109</td>\n",
              "      <td>1158</td>\n",
              "      <td>235,186</td>\n",
              "      <td>108,138</td>\n",
              "      <td>2.17</td>\n",
              "      <td>0.94</td>\n",
              "    </tr>\n",
              "    <tr>\n",
              "      <th>4</th>\n",
              "      <td>109</td>\n",
              "      <td>1105</td>\n",
              "      <td>298,145</td>\n",
              "      <td>126,915</td>\n",
              "      <td>2.35</td>\n",
              "      <td>0.99</td>\n",
              "    </tr>\n",
              "    <tr>\n",
              "      <th>5</th>\n",
              "      <td>109</td>\n",
              "      <td>1032</td>\n",
              "      <td>362,197</td>\n",
              "      <td>158,769</td>\n",
              "      <td>2.28</td>\n",
              "      <td>0.97</td>\n",
              "    </tr>\n",
              "    <tr>\n",
              "      <th>6</th>\n",
              "      <td>109</td>\n",
              "      <td>1065</td>\n",
              "      <td>362,604</td>\n",
              "      <td>160,110</td>\n",
              "      <td>2.26</td>\n",
              "      <td>1.01</td>\n",
              "    </tr>\n",
              "    <tr>\n",
              "      <th>7</th>\n",
              "      <td>109</td>\n",
              "      <td>1190</td>\n",
              "      <td>417,976</td>\n",
              "      <td>177,077</td>\n",
              "      <td>2.36</td>\n",
              "      <td>1.00</td>\n",
              "    </tr>\n",
              "    <tr>\n",
              "      <th>8</th>\n",
              "      <td>109</td>\n",
              "      <td>1106</td>\n",
              "      <td>464,176</td>\n",
              "      <td>192,670</td>\n",
              "      <td>2.41</td>\n",
              "      <td>0.96</td>\n",
              "    </tr>\n",
              "    <tr>\n",
              "      <th>9</th>\n",
              "      <td>109</td>\n",
              "      <td>1006</td>\n",
              "      <td>333,523</td>\n",
              "      <td>141,325</td>\n",
              "      <td>2.36</td>\n",
              "      <td>0.97</td>\n",
              "    </tr>\n",
              "  </tbody>\n",
              "</table>\n",
              "</div>\n",
              "      <button class=\"colab-df-convert\" onclick=\"convertToInteractive('df-0226186d-8747-4d61-8c35-f9608a7bfee9')\"\n",
              "              title=\"Convert this dataframe to an interactive table.\"\n",
              "              style=\"display:none;\">\n",
              "        \n",
              "  <svg xmlns=\"http://www.w3.org/2000/svg\" height=\"24px\"viewBox=\"0 0 24 24\"\n",
              "       width=\"24px\">\n",
              "    <path d=\"M0 0h24v24H0V0z\" fill=\"none\"/>\n",
              "    <path d=\"M18.56 5.44l.94 2.06.94-2.06 2.06-.94-2.06-.94-.94-2.06-.94 2.06-2.06.94zm-11 1L8.5 8.5l.94-2.06 2.06-.94-2.06-.94L8.5 2.5l-.94 2.06-2.06.94zm10 10l.94 2.06.94-2.06 2.06-.94-2.06-.94-.94-2.06-.94 2.06-2.06.94z\"/><path d=\"M17.41 7.96l-1.37-1.37c-.4-.4-.92-.59-1.43-.59-.52 0-1.04.2-1.43.59L10.3 9.45l-7.72 7.72c-.78.78-.78 2.05 0 2.83L4 21.41c.39.39.9.59 1.41.59.51 0 1.02-.2 1.41-.59l7.78-7.78 2.81-2.81c.8-.78.8-2.07 0-2.86zM5.41 20L4 18.59l7.72-7.72 1.47 1.35L5.41 20z\"/>\n",
              "  </svg>\n",
              "      </button>\n",
              "      \n",
              "  <style>\n",
              "    .colab-df-container {\n",
              "      display:flex;\n",
              "      flex-wrap:wrap;\n",
              "      gap: 12px;\n",
              "    }\n",
              "\n",
              "    .colab-df-convert {\n",
              "      background-color: #E8F0FE;\n",
              "      border: none;\n",
              "      border-radius: 50%;\n",
              "      cursor: pointer;\n",
              "      display: none;\n",
              "      fill: #1967D2;\n",
              "      height: 32px;\n",
              "      padding: 0 0 0 0;\n",
              "      width: 32px;\n",
              "    }\n",
              "\n",
              "    .colab-df-convert:hover {\n",
              "      background-color: #E2EBFA;\n",
              "      box-shadow: 0px 1px 2px rgba(60, 64, 67, 0.3), 0px 1px 3px 1px rgba(60, 64, 67, 0.15);\n",
              "      fill: #174EA6;\n",
              "    }\n",
              "\n",
              "    [theme=dark] .colab-df-convert {\n",
              "      background-color: #3B4455;\n",
              "      fill: #D2E3FC;\n",
              "    }\n",
              "\n",
              "    [theme=dark] .colab-df-convert:hover {\n",
              "      background-color: #434B5C;\n",
              "      box-shadow: 0px 1px 3px 1px rgba(0, 0, 0, 0.15);\n",
              "      filter: drop-shadow(0px 1px 2px rgba(0, 0, 0, 0.3));\n",
              "      fill: #FFFFFF;\n",
              "    }\n",
              "  </style>\n",
              "\n",
              "      <script>\n",
              "        const buttonEl =\n",
              "          document.querySelector('#df-0226186d-8747-4d61-8c35-f9608a7bfee9 button.colab-df-convert');\n",
              "        buttonEl.style.display =\n",
              "          google.colab.kernel.accessAllowed ? 'block' : 'none';\n",
              "\n",
              "        async function convertToInteractive(key) {\n",
              "          const element = document.querySelector('#df-0226186d-8747-4d61-8c35-f9608a7bfee9');\n",
              "          const dataTable =\n",
              "            await google.colab.kernel.invokeFunction('convertToInteractive',\n",
              "                                                     [key], {});\n",
              "          if (!dataTable) return;\n",
              "\n",
              "          const docLinkHtml = 'Like what you see? Visit the ' +\n",
              "            '<a target=\"_blank\" href=https://colab.research.google.com/notebooks/data_table.ipynb>data table notebook</a>'\n",
              "            + ' to learn more about interactive tables.';\n",
              "          element.innerHTML = '';\n",
              "          dataTable['output_type'] = 'display_data';\n",
              "          await google.colab.output.renderOutput(dataTable, element);\n",
              "          const docLink = document.createElement('div');\n",
              "          docLink.innerHTML = docLinkHtml;\n",
              "          element.appendChild(docLink);\n",
              "        }\n",
              "      </script>\n",
              "    </div>\n",
              "  </div>\n",
              "  "
            ]
          },
          "metadata": {},
          "execution_count": 225
        }
      ]
    },
    {
      "cell_type": "markdown",
      "source": [
        "1)\tTotal population of ProvinceCode equal to 115 and 116:"
      ],
      "metadata": {
        "id": "WxZCC3RRPKY0"
      }
    },
    {
      "cell_type": "code",
      "source": [
        "\n",
        "dr=df[(df['Province Code']==115) | (df['Province Code']==116)]['Population'].replace(',','',regex=True)\n",
        "dr1=dr.astype(float)\n",
        "dr1.sum()"
      ],
      "metadata": {
        "colab": {
          "base_uri": "https://localhost:8080/"
        },
        "id": "WKSHWBi1PM4-",
        "outputId": "c372b4a1-7f45-4ee4-9a34-5adc73d48ebb"
      },
      "execution_count": 150,
      "outputs": [
        {
          "output_type": "execute_result",
          "data": {
            "text/plain": [
              "5970327.0"
            ]
          },
          "metadata": {},
          "execution_count": 150
        }
      ]
    },
    {
      "cell_type": "markdown",
      "source": [
        "2)\tAverage population of the cities where there are more males"
      ],
      "metadata": {
        "id": "6c35k-g1SYEd"
      }
    },
    {
      "cell_type": "code",
      "source": [
        "df['Population'].replace(',','',regex=True).astype(float)\n",
        "df[\"Person's Household\"].replace(',','',regex=True).astype(float)\n",
        "\n"
      ],
      "metadata": {
        "colab": {
          "base_uri": "https://localhost:8080/"
        },
        "id": "3nY0txUjUIUU",
        "outputId": "71cc3fb1-81ab-430d-c817-4c14aca2c132"
      },
      "execution_count": 151,
      "outputs": [
        {
          "output_type": "execute_result",
          "data": {
            "text/plain": [
              "0      2.40\n",
              "1      2.14\n",
              "2      2.13\n",
              "3      2.17\n",
              "4      2.35\n",
              "       ... \n",
              "276    2.27\n",
              "277    2.02\n",
              "278    2.45\n",
              "279    2.49\n",
              "280    2.34\n",
              "Name: Person's Household, Length: 281, dtype: float64"
            ]
          },
          "metadata": {},
          "execution_count": 151
        }
      ]
    },
    {
      "cell_type": "code",
      "source": [
        "df[df['Gender Ratio']>1]['Population'].replace(',','',regex=True).astype(float).mean()\n"
      ],
      "metadata": {
        "colab": {
          "base_uri": "https://localhost:8080/"
        },
        "id": "tycO1E1OWa3t",
        "outputId": "34107173-2158-4e05-fa02-8713dff78870"
      },
      "execution_count": 147,
      "outputs": [
        {
          "output_type": "execute_result",
          "data": {
            "text/plain": [
              "419221.2076923077"
            ]
          },
          "metadata": {},
          "execution_count": 147
        }
      ]
    },
    {
      "cell_type": "markdown",
      "source": [
        "3)\tPlaces with more males (GenderRatio >1) and less than 2 persons per household:"
      ],
      "metadata": {
        "id": "JKgJCXh4W4lT"
      }
    },
    {
      "cell_type": "code",
      "source": [
        "df[df['Gender Ratio']>1][df[\"Person's Household\"]<2]"
      ],
      "metadata": {
        "colab": {
          "base_uri": "https://localhost:8080/",
          "height": 292
        },
        "id": "OzoFSgIdW81m",
        "outputId": "20314091-2dc0-478a-cf0e-5629a51f7756"
      },
      "execution_count": 115,
      "outputs": [
        {
          "output_type": "stream",
          "name": "stderr",
          "text": [
            "/usr/local/lib/python3.7/dist-packages/ipykernel_launcher.py:1: UserWarning: Boolean Series key will be reindexed to match DataFrame index.\n",
            "  \"\"\"Entry point for launching an IPython kernel.\n"
          ]
        },
        {
          "output_type": "execute_result",
          "data": {
            "text/plain": [
              "     Province Code  City Code Population Households  Person's Household  \\\n",
              "62             112       1155     20825     11,172                 1.86   \n",
              "149            101       1240     26790     13,433                 1.99   \n",
              "152            101       1017     30066     15,485                 1.94   \n",
              "167            117       1033     38027     19,145                 1.99   \n",
              "227            113       1120     43566     22,248                 1.96   \n",
              "253            104       1163     10304      5,365                 1.92   \n",
              "\n",
              "     Gender Ratio  \n",
              "62           1.29  \n",
              "149          1.27  \n",
              "152          1.15  \n",
              "167          1.03  \n",
              "227          1.11  \n",
              "253          1.15  "
            ],
            "text/html": [
              "\n",
              "  <div id=\"df-caf40d3a-9fd2-4d7e-9c95-15c075bd8bc7\">\n",
              "    <div class=\"colab-df-container\">\n",
              "      <div>\n",
              "<style scoped>\n",
              "    .dataframe tbody tr th:only-of-type {\n",
              "        vertical-align: middle;\n",
              "    }\n",
              "\n",
              "    .dataframe tbody tr th {\n",
              "        vertical-align: top;\n",
              "    }\n",
              "\n",
              "    .dataframe thead th {\n",
              "        text-align: right;\n",
              "    }\n",
              "</style>\n",
              "<table border=\"1\" class=\"dataframe\">\n",
              "  <thead>\n",
              "    <tr style=\"text-align: right;\">\n",
              "      <th></th>\n",
              "      <th>Province Code</th>\n",
              "      <th>City Code</th>\n",
              "      <th>Population</th>\n",
              "      <th>Households</th>\n",
              "      <th>Person's Household</th>\n",
              "      <th>Gender Ratio</th>\n",
              "    </tr>\n",
              "  </thead>\n",
              "  <tbody>\n",
              "    <tr>\n",
              "      <th>62</th>\n",
              "      <td>112</td>\n",
              "      <td>1155</td>\n",
              "      <td>20825</td>\n",
              "      <td>11,172</td>\n",
              "      <td>1.86</td>\n",
              "      <td>1.29</td>\n",
              "    </tr>\n",
              "    <tr>\n",
              "      <th>149</th>\n",
              "      <td>101</td>\n",
              "      <td>1240</td>\n",
              "      <td>26790</td>\n",
              "      <td>13,433</td>\n",
              "      <td>1.99</td>\n",
              "      <td>1.27</td>\n",
              "    </tr>\n",
              "    <tr>\n",
              "      <th>152</th>\n",
              "      <td>101</td>\n",
              "      <td>1017</td>\n",
              "      <td>30066</td>\n",
              "      <td>15,485</td>\n",
              "      <td>1.94</td>\n",
              "      <td>1.15</td>\n",
              "    </tr>\n",
              "    <tr>\n",
              "      <th>167</th>\n",
              "      <td>117</td>\n",
              "      <td>1033</td>\n",
              "      <td>38027</td>\n",
              "      <td>19,145</td>\n",
              "      <td>1.99</td>\n",
              "      <td>1.03</td>\n",
              "    </tr>\n",
              "    <tr>\n",
              "      <th>227</th>\n",
              "      <td>113</td>\n",
              "      <td>1120</td>\n",
              "      <td>43566</td>\n",
              "      <td>22,248</td>\n",
              "      <td>1.96</td>\n",
              "      <td>1.11</td>\n",
              "    </tr>\n",
              "    <tr>\n",
              "      <th>253</th>\n",
              "      <td>104</td>\n",
              "      <td>1163</td>\n",
              "      <td>10304</td>\n",
              "      <td>5,365</td>\n",
              "      <td>1.92</td>\n",
              "      <td>1.15</td>\n",
              "    </tr>\n",
              "  </tbody>\n",
              "</table>\n",
              "</div>\n",
              "      <button class=\"colab-df-convert\" onclick=\"convertToInteractive('df-caf40d3a-9fd2-4d7e-9c95-15c075bd8bc7')\"\n",
              "              title=\"Convert this dataframe to an interactive table.\"\n",
              "              style=\"display:none;\">\n",
              "        \n",
              "  <svg xmlns=\"http://www.w3.org/2000/svg\" height=\"24px\"viewBox=\"0 0 24 24\"\n",
              "       width=\"24px\">\n",
              "    <path d=\"M0 0h24v24H0V0z\" fill=\"none\"/>\n",
              "    <path d=\"M18.56 5.44l.94 2.06.94-2.06 2.06-.94-2.06-.94-.94-2.06-.94 2.06-2.06.94zm-11 1L8.5 8.5l.94-2.06 2.06-.94-2.06-.94L8.5 2.5l-.94 2.06-2.06.94zm10 10l.94 2.06.94-2.06 2.06-.94-2.06-.94-.94-2.06-.94 2.06-2.06.94z\"/><path d=\"M17.41 7.96l-1.37-1.37c-.4-.4-.92-.59-1.43-.59-.52 0-1.04.2-1.43.59L10.3 9.45l-7.72 7.72c-.78.78-.78 2.05 0 2.83L4 21.41c.39.39.9.59 1.41.59.51 0 1.02-.2 1.41-.59l7.78-7.78 2.81-2.81c.8-.78.8-2.07 0-2.86zM5.41 20L4 18.59l7.72-7.72 1.47 1.35L5.41 20z\"/>\n",
              "  </svg>\n",
              "      </button>\n",
              "      \n",
              "  <style>\n",
              "    .colab-df-container {\n",
              "      display:flex;\n",
              "      flex-wrap:wrap;\n",
              "      gap: 12px;\n",
              "    }\n",
              "\n",
              "    .colab-df-convert {\n",
              "      background-color: #E8F0FE;\n",
              "      border: none;\n",
              "      border-radius: 50%;\n",
              "      cursor: pointer;\n",
              "      display: none;\n",
              "      fill: #1967D2;\n",
              "      height: 32px;\n",
              "      padding: 0 0 0 0;\n",
              "      width: 32px;\n",
              "    }\n",
              "\n",
              "    .colab-df-convert:hover {\n",
              "      background-color: #E2EBFA;\n",
              "      box-shadow: 0px 1px 2px rgba(60, 64, 67, 0.3), 0px 1px 3px 1px rgba(60, 64, 67, 0.15);\n",
              "      fill: #174EA6;\n",
              "    }\n",
              "\n",
              "    [theme=dark] .colab-df-convert {\n",
              "      background-color: #3B4455;\n",
              "      fill: #D2E3FC;\n",
              "    }\n",
              "\n",
              "    [theme=dark] .colab-df-convert:hover {\n",
              "      background-color: #434B5C;\n",
              "      box-shadow: 0px 1px 3px 1px rgba(0, 0, 0, 0.15);\n",
              "      filter: drop-shadow(0px 1px 2px rgba(0, 0, 0, 0.3));\n",
              "      fill: #FFFFFF;\n",
              "    }\n",
              "  </style>\n",
              "\n",
              "      <script>\n",
              "        const buttonEl =\n",
              "          document.querySelector('#df-caf40d3a-9fd2-4d7e-9c95-15c075bd8bc7 button.colab-df-convert');\n",
              "        buttonEl.style.display =\n",
              "          google.colab.kernel.accessAllowed ? 'block' : 'none';\n",
              "\n",
              "        async function convertToInteractive(key) {\n",
              "          const element = document.querySelector('#df-caf40d3a-9fd2-4d7e-9c95-15c075bd8bc7');\n",
              "          const dataTable =\n",
              "            await google.colab.kernel.invokeFunction('convertToInteractive',\n",
              "                                                     [key], {});\n",
              "          if (!dataTable) return;\n",
              "\n",
              "          const docLinkHtml = 'Like what you see? Visit the ' +\n",
              "            '<a target=\"_blank\" href=https://colab.research.google.com/notebooks/data_table.ipynb>data table notebook</a>'\n",
              "            + ' to learn more about interactive tables.';\n",
              "          element.innerHTML = '';\n",
              "          dataTable['output_type'] = 'display_data';\n",
              "          await google.colab.output.renderOutput(dataTable, element);\n",
              "          const docLink = document.createElement('div');\n",
              "          docLink.innerHTML = docLinkHtml;\n",
              "          element.appendChild(docLink);\n",
              "        }\n",
              "      </script>\n",
              "    </div>\n",
              "  </div>\n",
              "  "
            ]
          },
          "metadata": {},
          "execution_count": 115
        }
      ]
    },
    {
      "cell_type": "markdown",
      "source": [
        "4)\tSort the DataFrame in ascending order of the 'Households'. Show the top 10."
      ],
      "metadata": {
        "id": "xYLaCDB2XaLX"
      }
    },
    {
      "cell_type": "code",
      "source": [
        "df['Households'].sort_values(ascending = True).head(10)"
      ],
      "metadata": {
        "colab": {
          "base_uri": "https://localhost:8080/"
        },
        "id": "P2oxMwl-Xfwv",
        "outputId": "d4223d20-c092-4500-8798-61fdc8446f87"
      },
      "execution_count": 118,
      "outputs": [
        {
          "output_type": "execute_result",
          "data": {
            "text/plain": [
              "52      1,145,232 \n",
              "228     1,160,150 \n",
              "254     1,356,430 \n",
              "26      1,430,441 \n",
              "200        10,877 \n",
              "266       100,073 \n",
              "256       100,745 \n",
              "37        101,090 \n",
              "70        101,201 \n",
              "230       101,508 \n",
              "Name: Households, dtype: object"
            ]
          },
          "metadata": {},
          "execution_count": 118
        }
      ]
    },
    {
      "cell_type": "markdown",
      "source": [
        "3.\tAnswer the following questions."
      ],
      "metadata": {
        "id": "MuCPV-1EYJYo"
      }
    },
    {
      "cell_type": "code",
      "source": [
        "import pandas as pd\n",
        "import numpy as np\n",
        "import os\n",
        "\n",
        "\n",
        "# Go to the directory where the data file is located. \n",
        "# os.chdir(r'~~')                # Please, replace the path with your own.\n",
        "df = pd.read_csv('data_sales.csv', header='infer')\n",
        "df.shape\n",
        "df.head(5)\n"
      ],
      "metadata": {
        "colab": {
          "base_uri": "https://localhost:8080/",
          "height": 206
        },
        "id": "3za_qXHtYNry",
        "outputId": "5fd57a55-fc2b-42b2-9eaa-bcde84d23c30"
      },
      "execution_count": 226,
      "outputs": [
        {
          "output_type": "execute_result",
          "data": {
            "text/plain": [
              "        Date   Region     Item  Unit Price  Units\n",
              "0  04-Jul-14     East  Pen Set        4.99     62\n",
              "1  12-Jul-14     East   Binder        1.99     29\n",
              "2  21-Jul-14  Central  Pen Set       12.49     55\n",
              "3  29-Jul-14     East   Binder       19.99     81\n",
              "4  07-Aug-14  Central  Pen Set       23.95     42"
            ],
            "text/html": [
              "\n",
              "  <div id=\"df-6a460443-6db0-4ec8-ae82-da623c1be24f\">\n",
              "    <div class=\"colab-df-container\">\n",
              "      <div>\n",
              "<style scoped>\n",
              "    .dataframe tbody tr th:only-of-type {\n",
              "        vertical-align: middle;\n",
              "    }\n",
              "\n",
              "    .dataframe tbody tr th {\n",
              "        vertical-align: top;\n",
              "    }\n",
              "\n",
              "    .dataframe thead th {\n",
              "        text-align: right;\n",
              "    }\n",
              "</style>\n",
              "<table border=\"1\" class=\"dataframe\">\n",
              "  <thead>\n",
              "    <tr style=\"text-align: right;\">\n",
              "      <th></th>\n",
              "      <th>Date</th>\n",
              "      <th>Region</th>\n",
              "      <th>Item</th>\n",
              "      <th>Unit Price</th>\n",
              "      <th>Units</th>\n",
              "    </tr>\n",
              "  </thead>\n",
              "  <tbody>\n",
              "    <tr>\n",
              "      <th>0</th>\n",
              "      <td>04-Jul-14</td>\n",
              "      <td>East</td>\n",
              "      <td>Pen Set</td>\n",
              "      <td>4.99</td>\n",
              "      <td>62</td>\n",
              "    </tr>\n",
              "    <tr>\n",
              "      <th>1</th>\n",
              "      <td>12-Jul-14</td>\n",
              "      <td>East</td>\n",
              "      <td>Binder</td>\n",
              "      <td>1.99</td>\n",
              "      <td>29</td>\n",
              "    </tr>\n",
              "    <tr>\n",
              "      <th>2</th>\n",
              "      <td>21-Jul-14</td>\n",
              "      <td>Central</td>\n",
              "      <td>Pen Set</td>\n",
              "      <td>12.49</td>\n",
              "      <td>55</td>\n",
              "    </tr>\n",
              "    <tr>\n",
              "      <th>3</th>\n",
              "      <td>29-Jul-14</td>\n",
              "      <td>East</td>\n",
              "      <td>Binder</td>\n",
              "      <td>19.99</td>\n",
              "      <td>81</td>\n",
              "    </tr>\n",
              "    <tr>\n",
              "      <th>4</th>\n",
              "      <td>07-Aug-14</td>\n",
              "      <td>Central</td>\n",
              "      <td>Pen Set</td>\n",
              "      <td>23.95</td>\n",
              "      <td>42</td>\n",
              "    </tr>\n",
              "  </tbody>\n",
              "</table>\n",
              "</div>\n",
              "      <button class=\"colab-df-convert\" onclick=\"convertToInteractive('df-6a460443-6db0-4ec8-ae82-da623c1be24f')\"\n",
              "              title=\"Convert this dataframe to an interactive table.\"\n",
              "              style=\"display:none;\">\n",
              "        \n",
              "  <svg xmlns=\"http://www.w3.org/2000/svg\" height=\"24px\"viewBox=\"0 0 24 24\"\n",
              "       width=\"24px\">\n",
              "    <path d=\"M0 0h24v24H0V0z\" fill=\"none\"/>\n",
              "    <path d=\"M18.56 5.44l.94 2.06.94-2.06 2.06-.94-2.06-.94-.94-2.06-.94 2.06-2.06.94zm-11 1L8.5 8.5l.94-2.06 2.06-.94-2.06-.94L8.5 2.5l-.94 2.06-2.06.94zm10 10l.94 2.06.94-2.06 2.06-.94-2.06-.94-.94-2.06-.94 2.06-2.06.94z\"/><path d=\"M17.41 7.96l-1.37-1.37c-.4-.4-.92-.59-1.43-.59-.52 0-1.04.2-1.43.59L10.3 9.45l-7.72 7.72c-.78.78-.78 2.05 0 2.83L4 21.41c.39.39.9.59 1.41.59.51 0 1.02-.2 1.41-.59l7.78-7.78 2.81-2.81c.8-.78.8-2.07 0-2.86zM5.41 20L4 18.59l7.72-7.72 1.47 1.35L5.41 20z\"/>\n",
              "  </svg>\n",
              "      </button>\n",
              "      \n",
              "  <style>\n",
              "    .colab-df-container {\n",
              "      display:flex;\n",
              "      flex-wrap:wrap;\n",
              "      gap: 12px;\n",
              "    }\n",
              "\n",
              "    .colab-df-convert {\n",
              "      background-color: #E8F0FE;\n",
              "      border: none;\n",
              "      border-radius: 50%;\n",
              "      cursor: pointer;\n",
              "      display: none;\n",
              "      fill: #1967D2;\n",
              "      height: 32px;\n",
              "      padding: 0 0 0 0;\n",
              "      width: 32px;\n",
              "    }\n",
              "\n",
              "    .colab-df-convert:hover {\n",
              "      background-color: #E2EBFA;\n",
              "      box-shadow: 0px 1px 2px rgba(60, 64, 67, 0.3), 0px 1px 3px 1px rgba(60, 64, 67, 0.15);\n",
              "      fill: #174EA6;\n",
              "    }\n",
              "\n",
              "    [theme=dark] .colab-df-convert {\n",
              "      background-color: #3B4455;\n",
              "      fill: #D2E3FC;\n",
              "    }\n",
              "\n",
              "    [theme=dark] .colab-df-convert:hover {\n",
              "      background-color: #434B5C;\n",
              "      box-shadow: 0px 1px 3px 1px rgba(0, 0, 0, 0.15);\n",
              "      filter: drop-shadow(0px 1px 2px rgba(0, 0, 0, 0.3));\n",
              "      fill: #FFFFFF;\n",
              "    }\n",
              "  </style>\n",
              "\n",
              "      <script>\n",
              "        const buttonEl =\n",
              "          document.querySelector('#df-6a460443-6db0-4ec8-ae82-da623c1be24f button.colab-df-convert');\n",
              "        buttonEl.style.display =\n",
              "          google.colab.kernel.accessAllowed ? 'block' : 'none';\n",
              "\n",
              "        async function convertToInteractive(key) {\n",
              "          const element = document.querySelector('#df-6a460443-6db0-4ec8-ae82-da623c1be24f');\n",
              "          const dataTable =\n",
              "            await google.colab.kernel.invokeFunction('convertToInteractive',\n",
              "                                                     [key], {});\n",
              "          if (!dataTable) return;\n",
              "\n",
              "          const docLinkHtml = 'Like what you see? Visit the ' +\n",
              "            '<a target=\"_blank\" href=https://colab.research.google.com/notebooks/data_table.ipynb>data table notebook</a>'\n",
              "            + ' to learn more about interactive tables.';\n",
              "          element.innerHTML = '';\n",
              "          dataTable['output_type'] = 'display_data';\n",
              "          await google.colab.output.renderOutput(dataTable, element);\n",
              "          const docLink = document.createElement('div');\n",
              "          docLink.innerHTML = docLinkHtml;\n",
              "          element.appendChild(docLink);\n",
              "        }\n",
              "      </script>\n",
              "    </div>\n",
              "  </div>\n",
              "  "
            ]
          },
          "metadata": {},
          "execution_count": 226
        }
      ]
    },
    {
      "cell_type": "markdown",
      "source": [
        "1)\tAppend a new variable 𝐴𝑚𝑜𝑢𝑛𝑡=𝑈𝑛𝑖𝑡𝑃𝑟𝑖𝑐×𝑈𝑛𝑖𝑡𝑠Amount=UnitPric×Units."
      ],
      "metadata": {
        "id": "IfurOcNaYVWB"
      }
    },
    {
      "cell_type": "code",
      "source": [
        "Amount=df['Unit Price']*df['Units']\n",
        "df['Amount']=Amount\n",
        "df"
      ],
      "metadata": {
        "colab": {
          "base_uri": "https://localhost:8080/",
          "height": 1000
        },
        "id": "lAiLl0TXYX1h",
        "outputId": "c1b8088c-69a5-41da-a73f-50ebc1ed9ad3"
      },
      "execution_count": 227,
      "outputs": [
        {
          "output_type": "execute_result",
          "data": {
            "text/plain": [
              "         Date   Region     Item  Unit Price  Units   Amount\n",
              "0   04-Jul-14     East  Pen Set        4.99     62   309.38\n",
              "1   12-Jul-14     East   Binder        1.99     29    57.71\n",
              "2   21-Jul-14  Central  Pen Set       12.49     55   686.95\n",
              "3   29-Jul-14     East   Binder       19.99     81  1619.19\n",
              "4   07-Aug-14  Central  Pen Set       23.95     42  1005.90\n",
              "5   15-Aug-14     East   Pencil        4.99     35   174.65\n",
              "6   24-Aug-14     West     Desk      275.00      3   825.00\n",
              "7   01-Sep-14  Central     Desk      125.00      2   250.00\n",
              "8   10-Sep-14  Central   Pencil        1.29      7     9.03\n",
              "9   18-Sep-14     East  Pen Set       15.99     16   255.84\n",
              "10  27-Sep-14     West      Pen        1.99     76   151.24\n",
              "11  05-Oct-14  Central   Binder        8.99     28   251.72\n",
              "12  14-Oct-14     West   Binder       19.99     57  1139.43\n",
              "13  22-Oct-14     East      Pen        8.99     64   575.36\n",
              "14  31-Oct-14  Central   Pencil        1.29     14    18.06\n",
              "15  08-Nov-14     East      Pen       19.99     15   299.85\n",
              "16  17-Nov-14  Central   Binder        4.99     11    54.89\n",
              "17  25-Nov-14  Central  Pen Set        4.99     96   479.04\n",
              "18  04-Dec-14  Central   Binder       19.99     94  1879.06\n",
              "19  12-Dec-14  Central   Pencil        1.29     67    86.43\n",
              "20  21-Dec-14  Central   Binder        4.99     28   139.72\n",
              "21  29-Dec-14     East  Pen Set       15.99     74  1183.26\n",
              "22  06-Jan-15     East   Pencil        1.99     95   189.05\n",
              "23  15-Jan-15  Central   Binder        8.99     46   413.54\n",
              "24  23-Jan-15  Central   Binder       19.99     50   999.50\n",
              "25  01-Feb-15  Central   Binder       15.00     87  1305.00\n",
              "26  09-Feb-15  Central   Pencil        4.99     36   179.64\n",
              "27  18-Feb-15     East   Binder        4.99      4    19.96\n",
              "28  26-Feb-15  Central      Pen       19.99     27   539.73\n",
              "29  07-Mar-15     West   Binder       19.99      7   139.93\n",
              "30  15-Mar-15     West   Pencil        2.99     56   167.44\n",
              "31  24-Mar-15  Central  Pen Set        4.99     50   249.50\n",
              "32  01-Apr-15     East   Binder        4.99     60   299.40\n",
              "33  10-Apr-15  Central   Pencil        1.99     66   131.34\n",
              "34  18-Apr-15  Central   Pencil        1.99     75   149.25\n",
              "35  27-Apr-15     East      Pen        4.99     96   479.04\n",
              "36  05-May-15  Central   Pencil        4.99     90   449.10\n",
              "37  14-May-15  Central   Pencil        1.29     53    68.37\n",
              "38  22-May-15     West   Pencil        1.99     32    63.68\n",
              "39  31-May-15  Central   Binder        8.99     80   719.20\n",
              "40  08-Jun-15     East   Binder        8.99     60   539.40\n",
              "41  17-Jun-15  Central     Desk      125.00      5   625.00\n",
              "42  25-Jun-15  Central   Pencil        4.99     90   449.10"
            ],
            "text/html": [
              "\n",
              "  <div id=\"df-8ade694b-665b-49f0-b058-fcb384fef3d4\">\n",
              "    <div class=\"colab-df-container\">\n",
              "      <div>\n",
              "<style scoped>\n",
              "    .dataframe tbody tr th:only-of-type {\n",
              "        vertical-align: middle;\n",
              "    }\n",
              "\n",
              "    .dataframe tbody tr th {\n",
              "        vertical-align: top;\n",
              "    }\n",
              "\n",
              "    .dataframe thead th {\n",
              "        text-align: right;\n",
              "    }\n",
              "</style>\n",
              "<table border=\"1\" class=\"dataframe\">\n",
              "  <thead>\n",
              "    <tr style=\"text-align: right;\">\n",
              "      <th></th>\n",
              "      <th>Date</th>\n",
              "      <th>Region</th>\n",
              "      <th>Item</th>\n",
              "      <th>Unit Price</th>\n",
              "      <th>Units</th>\n",
              "      <th>Amount</th>\n",
              "    </tr>\n",
              "  </thead>\n",
              "  <tbody>\n",
              "    <tr>\n",
              "      <th>0</th>\n",
              "      <td>04-Jul-14</td>\n",
              "      <td>East</td>\n",
              "      <td>Pen Set</td>\n",
              "      <td>4.99</td>\n",
              "      <td>62</td>\n",
              "      <td>309.38</td>\n",
              "    </tr>\n",
              "    <tr>\n",
              "      <th>1</th>\n",
              "      <td>12-Jul-14</td>\n",
              "      <td>East</td>\n",
              "      <td>Binder</td>\n",
              "      <td>1.99</td>\n",
              "      <td>29</td>\n",
              "      <td>57.71</td>\n",
              "    </tr>\n",
              "    <tr>\n",
              "      <th>2</th>\n",
              "      <td>21-Jul-14</td>\n",
              "      <td>Central</td>\n",
              "      <td>Pen Set</td>\n",
              "      <td>12.49</td>\n",
              "      <td>55</td>\n",
              "      <td>686.95</td>\n",
              "    </tr>\n",
              "    <tr>\n",
              "      <th>3</th>\n",
              "      <td>29-Jul-14</td>\n",
              "      <td>East</td>\n",
              "      <td>Binder</td>\n",
              "      <td>19.99</td>\n",
              "      <td>81</td>\n",
              "      <td>1619.19</td>\n",
              "    </tr>\n",
              "    <tr>\n",
              "      <th>4</th>\n",
              "      <td>07-Aug-14</td>\n",
              "      <td>Central</td>\n",
              "      <td>Pen Set</td>\n",
              "      <td>23.95</td>\n",
              "      <td>42</td>\n",
              "      <td>1005.90</td>\n",
              "    </tr>\n",
              "    <tr>\n",
              "      <th>5</th>\n",
              "      <td>15-Aug-14</td>\n",
              "      <td>East</td>\n",
              "      <td>Pencil</td>\n",
              "      <td>4.99</td>\n",
              "      <td>35</td>\n",
              "      <td>174.65</td>\n",
              "    </tr>\n",
              "    <tr>\n",
              "      <th>6</th>\n",
              "      <td>24-Aug-14</td>\n",
              "      <td>West</td>\n",
              "      <td>Desk</td>\n",
              "      <td>275.00</td>\n",
              "      <td>3</td>\n",
              "      <td>825.00</td>\n",
              "    </tr>\n",
              "    <tr>\n",
              "      <th>7</th>\n",
              "      <td>01-Sep-14</td>\n",
              "      <td>Central</td>\n",
              "      <td>Desk</td>\n",
              "      <td>125.00</td>\n",
              "      <td>2</td>\n",
              "      <td>250.00</td>\n",
              "    </tr>\n",
              "    <tr>\n",
              "      <th>8</th>\n",
              "      <td>10-Sep-14</td>\n",
              "      <td>Central</td>\n",
              "      <td>Pencil</td>\n",
              "      <td>1.29</td>\n",
              "      <td>7</td>\n",
              "      <td>9.03</td>\n",
              "    </tr>\n",
              "    <tr>\n",
              "      <th>9</th>\n",
              "      <td>18-Sep-14</td>\n",
              "      <td>East</td>\n",
              "      <td>Pen Set</td>\n",
              "      <td>15.99</td>\n",
              "      <td>16</td>\n",
              "      <td>255.84</td>\n",
              "    </tr>\n",
              "    <tr>\n",
              "      <th>10</th>\n",
              "      <td>27-Sep-14</td>\n",
              "      <td>West</td>\n",
              "      <td>Pen</td>\n",
              "      <td>1.99</td>\n",
              "      <td>76</td>\n",
              "      <td>151.24</td>\n",
              "    </tr>\n",
              "    <tr>\n",
              "      <th>11</th>\n",
              "      <td>05-Oct-14</td>\n",
              "      <td>Central</td>\n",
              "      <td>Binder</td>\n",
              "      <td>8.99</td>\n",
              "      <td>28</td>\n",
              "      <td>251.72</td>\n",
              "    </tr>\n",
              "    <tr>\n",
              "      <th>12</th>\n",
              "      <td>14-Oct-14</td>\n",
              "      <td>West</td>\n",
              "      <td>Binder</td>\n",
              "      <td>19.99</td>\n",
              "      <td>57</td>\n",
              "      <td>1139.43</td>\n",
              "    </tr>\n",
              "    <tr>\n",
              "      <th>13</th>\n",
              "      <td>22-Oct-14</td>\n",
              "      <td>East</td>\n",
              "      <td>Pen</td>\n",
              "      <td>8.99</td>\n",
              "      <td>64</td>\n",
              "      <td>575.36</td>\n",
              "    </tr>\n",
              "    <tr>\n",
              "      <th>14</th>\n",
              "      <td>31-Oct-14</td>\n",
              "      <td>Central</td>\n",
              "      <td>Pencil</td>\n",
              "      <td>1.29</td>\n",
              "      <td>14</td>\n",
              "      <td>18.06</td>\n",
              "    </tr>\n",
              "    <tr>\n",
              "      <th>15</th>\n",
              "      <td>08-Nov-14</td>\n",
              "      <td>East</td>\n",
              "      <td>Pen</td>\n",
              "      <td>19.99</td>\n",
              "      <td>15</td>\n",
              "      <td>299.85</td>\n",
              "    </tr>\n",
              "    <tr>\n",
              "      <th>16</th>\n",
              "      <td>17-Nov-14</td>\n",
              "      <td>Central</td>\n",
              "      <td>Binder</td>\n",
              "      <td>4.99</td>\n",
              "      <td>11</td>\n",
              "      <td>54.89</td>\n",
              "    </tr>\n",
              "    <tr>\n",
              "      <th>17</th>\n",
              "      <td>25-Nov-14</td>\n",
              "      <td>Central</td>\n",
              "      <td>Pen Set</td>\n",
              "      <td>4.99</td>\n",
              "      <td>96</td>\n",
              "      <td>479.04</td>\n",
              "    </tr>\n",
              "    <tr>\n",
              "      <th>18</th>\n",
              "      <td>04-Dec-14</td>\n",
              "      <td>Central</td>\n",
              "      <td>Binder</td>\n",
              "      <td>19.99</td>\n",
              "      <td>94</td>\n",
              "      <td>1879.06</td>\n",
              "    </tr>\n",
              "    <tr>\n",
              "      <th>19</th>\n",
              "      <td>12-Dec-14</td>\n",
              "      <td>Central</td>\n",
              "      <td>Pencil</td>\n",
              "      <td>1.29</td>\n",
              "      <td>67</td>\n",
              "      <td>86.43</td>\n",
              "    </tr>\n",
              "    <tr>\n",
              "      <th>20</th>\n",
              "      <td>21-Dec-14</td>\n",
              "      <td>Central</td>\n",
              "      <td>Binder</td>\n",
              "      <td>4.99</td>\n",
              "      <td>28</td>\n",
              "      <td>139.72</td>\n",
              "    </tr>\n",
              "    <tr>\n",
              "      <th>21</th>\n",
              "      <td>29-Dec-14</td>\n",
              "      <td>East</td>\n",
              "      <td>Pen Set</td>\n",
              "      <td>15.99</td>\n",
              "      <td>74</td>\n",
              "      <td>1183.26</td>\n",
              "    </tr>\n",
              "    <tr>\n",
              "      <th>22</th>\n",
              "      <td>06-Jan-15</td>\n",
              "      <td>East</td>\n",
              "      <td>Pencil</td>\n",
              "      <td>1.99</td>\n",
              "      <td>95</td>\n",
              "      <td>189.05</td>\n",
              "    </tr>\n",
              "    <tr>\n",
              "      <th>23</th>\n",
              "      <td>15-Jan-15</td>\n",
              "      <td>Central</td>\n",
              "      <td>Binder</td>\n",
              "      <td>8.99</td>\n",
              "      <td>46</td>\n",
              "      <td>413.54</td>\n",
              "    </tr>\n",
              "    <tr>\n",
              "      <th>24</th>\n",
              "      <td>23-Jan-15</td>\n",
              "      <td>Central</td>\n",
              "      <td>Binder</td>\n",
              "      <td>19.99</td>\n",
              "      <td>50</td>\n",
              "      <td>999.50</td>\n",
              "    </tr>\n",
              "    <tr>\n",
              "      <th>25</th>\n",
              "      <td>01-Feb-15</td>\n",
              "      <td>Central</td>\n",
              "      <td>Binder</td>\n",
              "      <td>15.00</td>\n",
              "      <td>87</td>\n",
              "      <td>1305.00</td>\n",
              "    </tr>\n",
              "    <tr>\n",
              "      <th>26</th>\n",
              "      <td>09-Feb-15</td>\n",
              "      <td>Central</td>\n",
              "      <td>Pencil</td>\n",
              "      <td>4.99</td>\n",
              "      <td>36</td>\n",
              "      <td>179.64</td>\n",
              "    </tr>\n",
              "    <tr>\n",
              "      <th>27</th>\n",
              "      <td>18-Feb-15</td>\n",
              "      <td>East</td>\n",
              "      <td>Binder</td>\n",
              "      <td>4.99</td>\n",
              "      <td>4</td>\n",
              "      <td>19.96</td>\n",
              "    </tr>\n",
              "    <tr>\n",
              "      <th>28</th>\n",
              "      <td>26-Feb-15</td>\n",
              "      <td>Central</td>\n",
              "      <td>Pen</td>\n",
              "      <td>19.99</td>\n",
              "      <td>27</td>\n",
              "      <td>539.73</td>\n",
              "    </tr>\n",
              "    <tr>\n",
              "      <th>29</th>\n",
              "      <td>07-Mar-15</td>\n",
              "      <td>West</td>\n",
              "      <td>Binder</td>\n",
              "      <td>19.99</td>\n",
              "      <td>7</td>\n",
              "      <td>139.93</td>\n",
              "    </tr>\n",
              "    <tr>\n",
              "      <th>30</th>\n",
              "      <td>15-Mar-15</td>\n",
              "      <td>West</td>\n",
              "      <td>Pencil</td>\n",
              "      <td>2.99</td>\n",
              "      <td>56</td>\n",
              "      <td>167.44</td>\n",
              "    </tr>\n",
              "    <tr>\n",
              "      <th>31</th>\n",
              "      <td>24-Mar-15</td>\n",
              "      <td>Central</td>\n",
              "      <td>Pen Set</td>\n",
              "      <td>4.99</td>\n",
              "      <td>50</td>\n",
              "      <td>249.50</td>\n",
              "    </tr>\n",
              "    <tr>\n",
              "      <th>32</th>\n",
              "      <td>01-Apr-15</td>\n",
              "      <td>East</td>\n",
              "      <td>Binder</td>\n",
              "      <td>4.99</td>\n",
              "      <td>60</td>\n",
              "      <td>299.40</td>\n",
              "    </tr>\n",
              "    <tr>\n",
              "      <th>33</th>\n",
              "      <td>10-Apr-15</td>\n",
              "      <td>Central</td>\n",
              "      <td>Pencil</td>\n",
              "      <td>1.99</td>\n",
              "      <td>66</td>\n",
              "      <td>131.34</td>\n",
              "    </tr>\n",
              "    <tr>\n",
              "      <th>34</th>\n",
              "      <td>18-Apr-15</td>\n",
              "      <td>Central</td>\n",
              "      <td>Pencil</td>\n",
              "      <td>1.99</td>\n",
              "      <td>75</td>\n",
              "      <td>149.25</td>\n",
              "    </tr>\n",
              "    <tr>\n",
              "      <th>35</th>\n",
              "      <td>27-Apr-15</td>\n",
              "      <td>East</td>\n",
              "      <td>Pen</td>\n",
              "      <td>4.99</td>\n",
              "      <td>96</td>\n",
              "      <td>479.04</td>\n",
              "    </tr>\n",
              "    <tr>\n",
              "      <th>36</th>\n",
              "      <td>05-May-15</td>\n",
              "      <td>Central</td>\n",
              "      <td>Pencil</td>\n",
              "      <td>4.99</td>\n",
              "      <td>90</td>\n",
              "      <td>449.10</td>\n",
              "    </tr>\n",
              "    <tr>\n",
              "      <th>37</th>\n",
              "      <td>14-May-15</td>\n",
              "      <td>Central</td>\n",
              "      <td>Pencil</td>\n",
              "      <td>1.29</td>\n",
              "      <td>53</td>\n",
              "      <td>68.37</td>\n",
              "    </tr>\n",
              "    <tr>\n",
              "      <th>38</th>\n",
              "      <td>22-May-15</td>\n",
              "      <td>West</td>\n",
              "      <td>Pencil</td>\n",
              "      <td>1.99</td>\n",
              "      <td>32</td>\n",
              "      <td>63.68</td>\n",
              "    </tr>\n",
              "    <tr>\n",
              "      <th>39</th>\n",
              "      <td>31-May-15</td>\n",
              "      <td>Central</td>\n",
              "      <td>Binder</td>\n",
              "      <td>8.99</td>\n",
              "      <td>80</td>\n",
              "      <td>719.20</td>\n",
              "    </tr>\n",
              "    <tr>\n",
              "      <th>40</th>\n",
              "      <td>08-Jun-15</td>\n",
              "      <td>East</td>\n",
              "      <td>Binder</td>\n",
              "      <td>8.99</td>\n",
              "      <td>60</td>\n",
              "      <td>539.40</td>\n",
              "    </tr>\n",
              "    <tr>\n",
              "      <th>41</th>\n",
              "      <td>17-Jun-15</td>\n",
              "      <td>Central</td>\n",
              "      <td>Desk</td>\n",
              "      <td>125.00</td>\n",
              "      <td>5</td>\n",
              "      <td>625.00</td>\n",
              "    </tr>\n",
              "    <tr>\n",
              "      <th>42</th>\n",
              "      <td>25-Jun-15</td>\n",
              "      <td>Central</td>\n",
              "      <td>Pencil</td>\n",
              "      <td>4.99</td>\n",
              "      <td>90</td>\n",
              "      <td>449.10</td>\n",
              "    </tr>\n",
              "  </tbody>\n",
              "</table>\n",
              "</div>\n",
              "      <button class=\"colab-df-convert\" onclick=\"convertToInteractive('df-8ade694b-665b-49f0-b058-fcb384fef3d4')\"\n",
              "              title=\"Convert this dataframe to an interactive table.\"\n",
              "              style=\"display:none;\">\n",
              "        \n",
              "  <svg xmlns=\"http://www.w3.org/2000/svg\" height=\"24px\"viewBox=\"0 0 24 24\"\n",
              "       width=\"24px\">\n",
              "    <path d=\"M0 0h24v24H0V0z\" fill=\"none\"/>\n",
              "    <path d=\"M18.56 5.44l.94 2.06.94-2.06 2.06-.94-2.06-.94-.94-2.06-.94 2.06-2.06.94zm-11 1L8.5 8.5l.94-2.06 2.06-.94-2.06-.94L8.5 2.5l-.94 2.06-2.06.94zm10 10l.94 2.06.94-2.06 2.06-.94-2.06-.94-.94-2.06-.94 2.06-2.06.94z\"/><path d=\"M17.41 7.96l-1.37-1.37c-.4-.4-.92-.59-1.43-.59-.52 0-1.04.2-1.43.59L10.3 9.45l-7.72 7.72c-.78.78-.78 2.05 0 2.83L4 21.41c.39.39.9.59 1.41.59.51 0 1.02-.2 1.41-.59l7.78-7.78 2.81-2.81c.8-.78.8-2.07 0-2.86zM5.41 20L4 18.59l7.72-7.72 1.47 1.35L5.41 20z\"/>\n",
              "  </svg>\n",
              "      </button>\n",
              "      \n",
              "  <style>\n",
              "    .colab-df-container {\n",
              "      display:flex;\n",
              "      flex-wrap:wrap;\n",
              "      gap: 12px;\n",
              "    }\n",
              "\n",
              "    .colab-df-convert {\n",
              "      background-color: #E8F0FE;\n",
              "      border: none;\n",
              "      border-radius: 50%;\n",
              "      cursor: pointer;\n",
              "      display: none;\n",
              "      fill: #1967D2;\n",
              "      height: 32px;\n",
              "      padding: 0 0 0 0;\n",
              "      width: 32px;\n",
              "    }\n",
              "\n",
              "    .colab-df-convert:hover {\n",
              "      background-color: #E2EBFA;\n",
              "      box-shadow: 0px 1px 2px rgba(60, 64, 67, 0.3), 0px 1px 3px 1px rgba(60, 64, 67, 0.15);\n",
              "      fill: #174EA6;\n",
              "    }\n",
              "\n",
              "    [theme=dark] .colab-df-convert {\n",
              "      background-color: #3B4455;\n",
              "      fill: #D2E3FC;\n",
              "    }\n",
              "\n",
              "    [theme=dark] .colab-df-convert:hover {\n",
              "      background-color: #434B5C;\n",
              "      box-shadow: 0px 1px 3px 1px rgba(0, 0, 0, 0.15);\n",
              "      filter: drop-shadow(0px 1px 2px rgba(0, 0, 0, 0.3));\n",
              "      fill: #FFFFFF;\n",
              "    }\n",
              "  </style>\n",
              "\n",
              "      <script>\n",
              "        const buttonEl =\n",
              "          document.querySelector('#df-8ade694b-665b-49f0-b058-fcb384fef3d4 button.colab-df-convert');\n",
              "        buttonEl.style.display =\n",
              "          google.colab.kernel.accessAllowed ? 'block' : 'none';\n",
              "\n",
              "        async function convertToInteractive(key) {\n",
              "          const element = document.querySelector('#df-8ade694b-665b-49f0-b058-fcb384fef3d4');\n",
              "          const dataTable =\n",
              "            await google.colab.kernel.invokeFunction('convertToInteractive',\n",
              "                                                     [key], {});\n",
              "          if (!dataTable) return;\n",
              "\n",
              "          const docLinkHtml = 'Like what you see? Visit the ' +\n",
              "            '<a target=\"_blank\" href=https://colab.research.google.com/notebooks/data_table.ipynb>data table notebook</a>'\n",
              "            + ' to learn more about interactive tables.';\n",
              "          element.innerHTML = '';\n",
              "          dataTable['output_type'] = 'display_data';\n",
              "          await google.colab.output.renderOutput(dataTable, element);\n",
              "          const docLink = document.createElement('div');\n",
              "          docLink.innerHTML = docLinkHtml;\n",
              "          element.appendChild(docLink);\n",
              "        }\n",
              "      </script>\n",
              "    </div>\n",
              "  </div>\n",
              "  "
            ]
          },
          "metadata": {},
          "execution_count": 227
        }
      ]
    },
    {
      "cell_type": "markdown",
      "source": [
        "2)\tAverage unit price for each region. Use the groupby() method."
      ],
      "metadata": {
        "id": "_PNWrvezY6Fi"
      }
    },
    {
      "cell_type": "code",
      "source": [
        "dr=df.groupby('Region')['Unit Price']\n",
        "dr.mean()"
      ],
      "metadata": {
        "colab": {
          "base_uri": "https://localhost:8080/"
        },
        "id": "iuDWiNRsY8Z9",
        "outputId": "68aed7b9-819b-454b-8a12-4cfbcb26cf6a"
      },
      "execution_count": 228,
      "outputs": [
        {
          "output_type": "execute_result",
          "data": {
            "text/plain": [
              "Region\n",
              "Central    18.018750\n",
              "East        9.143846\n",
              "West       53.658333\n",
              "Name: Unit Price, dtype: float64"
            ]
          },
          "metadata": {},
          "execution_count": 228
        }
      ]
    },
    {
      "cell_type": "markdown",
      "source": [
        "3)\tAverage unit price for each region. Use the pivot_table() method."
      ],
      "metadata": {
        "id": "qTgCytkzce4k"
      }
    },
    {
      "cell_type": "code",
      "source": [
        "pd.pivot_table(df,index=[\"Region\"],values=[\"Unit Price\"])\n"
      ],
      "metadata": {
        "colab": {
          "base_uri": "https://localhost:8080/",
          "height": 175
        },
        "id": "YiYzNJHRchfD",
        "outputId": "6409f98c-226a-4caa-ac13-daac38e164fb"
      },
      "execution_count": 229,
      "outputs": [
        {
          "output_type": "execute_result",
          "data": {
            "text/plain": [
              "         Unit Price\n",
              "Region             \n",
              "Central   18.018750\n",
              "East       9.143846\n",
              "West      53.658333"
            ],
            "text/html": [
              "\n",
              "  <div id=\"df-aff97961-6ddc-45f6-9bc1-9113d788efe3\">\n",
              "    <div class=\"colab-df-container\">\n",
              "      <div>\n",
              "<style scoped>\n",
              "    .dataframe tbody tr th:only-of-type {\n",
              "        vertical-align: middle;\n",
              "    }\n",
              "\n",
              "    .dataframe tbody tr th {\n",
              "        vertical-align: top;\n",
              "    }\n",
              "\n",
              "    .dataframe thead th {\n",
              "        text-align: right;\n",
              "    }\n",
              "</style>\n",
              "<table border=\"1\" class=\"dataframe\">\n",
              "  <thead>\n",
              "    <tr style=\"text-align: right;\">\n",
              "      <th></th>\n",
              "      <th>Unit Price</th>\n",
              "    </tr>\n",
              "    <tr>\n",
              "      <th>Region</th>\n",
              "      <th></th>\n",
              "    </tr>\n",
              "  </thead>\n",
              "  <tbody>\n",
              "    <tr>\n",
              "      <th>Central</th>\n",
              "      <td>18.018750</td>\n",
              "    </tr>\n",
              "    <tr>\n",
              "      <th>East</th>\n",
              "      <td>9.143846</td>\n",
              "    </tr>\n",
              "    <tr>\n",
              "      <th>West</th>\n",
              "      <td>53.658333</td>\n",
              "    </tr>\n",
              "  </tbody>\n",
              "</table>\n",
              "</div>\n",
              "      <button class=\"colab-df-convert\" onclick=\"convertToInteractive('df-aff97961-6ddc-45f6-9bc1-9113d788efe3')\"\n",
              "              title=\"Convert this dataframe to an interactive table.\"\n",
              "              style=\"display:none;\">\n",
              "        \n",
              "  <svg xmlns=\"http://www.w3.org/2000/svg\" height=\"24px\"viewBox=\"0 0 24 24\"\n",
              "       width=\"24px\">\n",
              "    <path d=\"M0 0h24v24H0V0z\" fill=\"none\"/>\n",
              "    <path d=\"M18.56 5.44l.94 2.06.94-2.06 2.06-.94-2.06-.94-.94-2.06-.94 2.06-2.06.94zm-11 1L8.5 8.5l.94-2.06 2.06-.94-2.06-.94L8.5 2.5l-.94 2.06-2.06.94zm10 10l.94 2.06.94-2.06 2.06-.94-2.06-.94-.94-2.06-.94 2.06-2.06.94z\"/><path d=\"M17.41 7.96l-1.37-1.37c-.4-.4-.92-.59-1.43-.59-.52 0-1.04.2-1.43.59L10.3 9.45l-7.72 7.72c-.78.78-.78 2.05 0 2.83L4 21.41c.39.39.9.59 1.41.59.51 0 1.02-.2 1.41-.59l7.78-7.78 2.81-2.81c.8-.78.8-2.07 0-2.86zM5.41 20L4 18.59l7.72-7.72 1.47 1.35L5.41 20z\"/>\n",
              "  </svg>\n",
              "      </button>\n",
              "      \n",
              "  <style>\n",
              "    .colab-df-container {\n",
              "      display:flex;\n",
              "      flex-wrap:wrap;\n",
              "      gap: 12px;\n",
              "    }\n",
              "\n",
              "    .colab-df-convert {\n",
              "      background-color: #E8F0FE;\n",
              "      border: none;\n",
              "      border-radius: 50%;\n",
              "      cursor: pointer;\n",
              "      display: none;\n",
              "      fill: #1967D2;\n",
              "      height: 32px;\n",
              "      padding: 0 0 0 0;\n",
              "      width: 32px;\n",
              "    }\n",
              "\n",
              "    .colab-df-convert:hover {\n",
              "      background-color: #E2EBFA;\n",
              "      box-shadow: 0px 1px 2px rgba(60, 64, 67, 0.3), 0px 1px 3px 1px rgba(60, 64, 67, 0.15);\n",
              "      fill: #174EA6;\n",
              "    }\n",
              "\n",
              "    [theme=dark] .colab-df-convert {\n",
              "      background-color: #3B4455;\n",
              "      fill: #D2E3FC;\n",
              "    }\n",
              "\n",
              "    [theme=dark] .colab-df-convert:hover {\n",
              "      background-color: #434B5C;\n",
              "      box-shadow: 0px 1px 3px 1px rgba(0, 0, 0, 0.15);\n",
              "      filter: drop-shadow(0px 1px 2px rgba(0, 0, 0, 0.3));\n",
              "      fill: #FFFFFF;\n",
              "    }\n",
              "  </style>\n",
              "\n",
              "      <script>\n",
              "        const buttonEl =\n",
              "          document.querySelector('#df-aff97961-6ddc-45f6-9bc1-9113d788efe3 button.colab-df-convert');\n",
              "        buttonEl.style.display =\n",
              "          google.colab.kernel.accessAllowed ? 'block' : 'none';\n",
              "\n",
              "        async function convertToInteractive(key) {\n",
              "          const element = document.querySelector('#df-aff97961-6ddc-45f6-9bc1-9113d788efe3');\n",
              "          const dataTable =\n",
              "            await google.colab.kernel.invokeFunction('convertToInteractive',\n",
              "                                                     [key], {});\n",
              "          if (!dataTable) return;\n",
              "\n",
              "          const docLinkHtml = 'Like what you see? Visit the ' +\n",
              "            '<a target=\"_blank\" href=https://colab.research.google.com/notebooks/data_table.ipynb>data table notebook</a>'\n",
              "            + ' to learn more about interactive tables.';\n",
              "          element.innerHTML = '';\n",
              "          dataTable['output_type'] = 'display_data';\n",
              "          await google.colab.output.renderOutput(dataTable, element);\n",
              "          const docLink = document.createElement('div');\n",
              "          docLink.innerHTML = docLinkHtml;\n",
              "          element.appendChild(docLink);\n",
              "        }\n",
              "      </script>\n",
              "    </div>\n",
              "  </div>\n",
              "  "
            ]
          },
          "metadata": {},
          "execution_count": 229
        }
      ]
    },
    {
      "cell_type": "markdown",
      "source": [
        "4)\tAverage unit price and units for each region in one code sentence. Use the groupby() method."
      ],
      "metadata": {
        "id": "wZs35gD0g6_8"
      }
    },
    {
      "cell_type": "code",
      "source": [
        "df.groupby('Region',)[[\"Unit Price\", \"Units\"]].mean()"
      ],
      "metadata": {
        "colab": {
          "base_uri": "https://localhost:8080/",
          "height": 175
        },
        "id": "rRiGpJVfhCRx",
        "outputId": "c42a6f71-3289-49ee-f23d-3ffcb6dc58e9"
      },
      "execution_count": 230,
      "outputs": [
        {
          "output_type": "execute_result",
          "data": {
            "text/plain": [
              "         Unit Price      Units\n",
              "Region                        \n",
              "Central   18.018750  49.958333\n",
              "East       9.143846  53.153846\n",
              "West      53.658333  38.500000"
            ],
            "text/html": [
              "\n",
              "  <div id=\"df-bfea0686-6bb9-4b79-8451-a52f12184fe2\">\n",
              "    <div class=\"colab-df-container\">\n",
              "      <div>\n",
              "<style scoped>\n",
              "    .dataframe tbody tr th:only-of-type {\n",
              "        vertical-align: middle;\n",
              "    }\n",
              "\n",
              "    .dataframe tbody tr th {\n",
              "        vertical-align: top;\n",
              "    }\n",
              "\n",
              "    .dataframe thead th {\n",
              "        text-align: right;\n",
              "    }\n",
              "</style>\n",
              "<table border=\"1\" class=\"dataframe\">\n",
              "  <thead>\n",
              "    <tr style=\"text-align: right;\">\n",
              "      <th></th>\n",
              "      <th>Unit Price</th>\n",
              "      <th>Units</th>\n",
              "    </tr>\n",
              "    <tr>\n",
              "      <th>Region</th>\n",
              "      <th></th>\n",
              "      <th></th>\n",
              "    </tr>\n",
              "  </thead>\n",
              "  <tbody>\n",
              "    <tr>\n",
              "      <th>Central</th>\n",
              "      <td>18.018750</td>\n",
              "      <td>49.958333</td>\n",
              "    </tr>\n",
              "    <tr>\n",
              "      <th>East</th>\n",
              "      <td>9.143846</td>\n",
              "      <td>53.153846</td>\n",
              "    </tr>\n",
              "    <tr>\n",
              "      <th>West</th>\n",
              "      <td>53.658333</td>\n",
              "      <td>38.500000</td>\n",
              "    </tr>\n",
              "  </tbody>\n",
              "</table>\n",
              "</div>\n",
              "      <button class=\"colab-df-convert\" onclick=\"convertToInteractive('df-bfea0686-6bb9-4b79-8451-a52f12184fe2')\"\n",
              "              title=\"Convert this dataframe to an interactive table.\"\n",
              "              style=\"display:none;\">\n",
              "        \n",
              "  <svg xmlns=\"http://www.w3.org/2000/svg\" height=\"24px\"viewBox=\"0 0 24 24\"\n",
              "       width=\"24px\">\n",
              "    <path d=\"M0 0h24v24H0V0z\" fill=\"none\"/>\n",
              "    <path d=\"M18.56 5.44l.94 2.06.94-2.06 2.06-.94-2.06-.94-.94-2.06-.94 2.06-2.06.94zm-11 1L8.5 8.5l.94-2.06 2.06-.94-2.06-.94L8.5 2.5l-.94 2.06-2.06.94zm10 10l.94 2.06.94-2.06 2.06-.94-2.06-.94-.94-2.06-.94 2.06-2.06.94z\"/><path d=\"M17.41 7.96l-1.37-1.37c-.4-.4-.92-.59-1.43-.59-.52 0-1.04.2-1.43.59L10.3 9.45l-7.72 7.72c-.78.78-.78 2.05 0 2.83L4 21.41c.39.39.9.59 1.41.59.51 0 1.02-.2 1.41-.59l7.78-7.78 2.81-2.81c.8-.78.8-2.07 0-2.86zM5.41 20L4 18.59l7.72-7.72 1.47 1.35L5.41 20z\"/>\n",
              "  </svg>\n",
              "      </button>\n",
              "      \n",
              "  <style>\n",
              "    .colab-df-container {\n",
              "      display:flex;\n",
              "      flex-wrap:wrap;\n",
              "      gap: 12px;\n",
              "    }\n",
              "\n",
              "    .colab-df-convert {\n",
              "      background-color: #E8F0FE;\n",
              "      border: none;\n",
              "      border-radius: 50%;\n",
              "      cursor: pointer;\n",
              "      display: none;\n",
              "      fill: #1967D2;\n",
              "      height: 32px;\n",
              "      padding: 0 0 0 0;\n",
              "      width: 32px;\n",
              "    }\n",
              "\n",
              "    .colab-df-convert:hover {\n",
              "      background-color: #E2EBFA;\n",
              "      box-shadow: 0px 1px 2px rgba(60, 64, 67, 0.3), 0px 1px 3px 1px rgba(60, 64, 67, 0.15);\n",
              "      fill: #174EA6;\n",
              "    }\n",
              "\n",
              "    [theme=dark] .colab-df-convert {\n",
              "      background-color: #3B4455;\n",
              "      fill: #D2E3FC;\n",
              "    }\n",
              "\n",
              "    [theme=dark] .colab-df-convert:hover {\n",
              "      background-color: #434B5C;\n",
              "      box-shadow: 0px 1px 3px 1px rgba(0, 0, 0, 0.15);\n",
              "      filter: drop-shadow(0px 1px 2px rgba(0, 0, 0, 0.3));\n",
              "      fill: #FFFFFF;\n",
              "    }\n",
              "  </style>\n",
              "\n",
              "      <script>\n",
              "        const buttonEl =\n",
              "          document.querySelector('#df-bfea0686-6bb9-4b79-8451-a52f12184fe2 button.colab-df-convert');\n",
              "        buttonEl.style.display =\n",
              "          google.colab.kernel.accessAllowed ? 'block' : 'none';\n",
              "\n",
              "        async function convertToInteractive(key) {\n",
              "          const element = document.querySelector('#df-bfea0686-6bb9-4b79-8451-a52f12184fe2');\n",
              "          const dataTable =\n",
              "            await google.colab.kernel.invokeFunction('convertToInteractive',\n",
              "                                                     [key], {});\n",
              "          if (!dataTable) return;\n",
              "\n",
              "          const docLinkHtml = 'Like what you see? Visit the ' +\n",
              "            '<a target=\"_blank\" href=https://colab.research.google.com/notebooks/data_table.ipynb>data table notebook</a>'\n",
              "            + ' to learn more about interactive tables.';\n",
              "          element.innerHTML = '';\n",
              "          dataTable['output_type'] = 'display_data';\n",
              "          await google.colab.output.renderOutput(dataTable, element);\n",
              "          const docLink = document.createElement('div');\n",
              "          docLink.innerHTML = docLinkHtml;\n",
              "          element.appendChild(docLink);\n",
              "        }\n",
              "      </script>\n",
              "    </div>\n",
              "  </div>\n",
              "  "
            ]
          },
          "metadata": {},
          "execution_count": 230
        }
      ]
    },
    {
      "cell_type": "markdown",
      "source": [
        "5)\tAverage unit price and units for each region in one code sentence. Use the pivot_table() method."
      ],
      "metadata": {
        "id": "FUgxR4Cvs1Qu"
      }
    },
    {
      "cell_type": "code",
      "source": [
        "pd.pivot_table(df,index=[\"Region\"] ,values=([\"Unit Price\" , \"Units\"]))\n"
      ],
      "metadata": {
        "colab": {
          "base_uri": "https://localhost:8080/",
          "height": 175
        },
        "id": "t9oqhXrXs0gl",
        "outputId": "a09a61bb-1a9c-414c-c752-ad8751875560"
      },
      "execution_count": 231,
      "outputs": [
        {
          "output_type": "execute_result",
          "data": {
            "text/plain": [
              "         Unit Price      Units\n",
              "Region                        \n",
              "Central   18.018750  49.958333\n",
              "East       9.143846  53.153846\n",
              "West      53.658333  38.500000"
            ],
            "text/html": [
              "\n",
              "  <div id=\"df-0bad452b-dfbf-445a-91bb-9b96ac453a9a\">\n",
              "    <div class=\"colab-df-container\">\n",
              "      <div>\n",
              "<style scoped>\n",
              "    .dataframe tbody tr th:only-of-type {\n",
              "        vertical-align: middle;\n",
              "    }\n",
              "\n",
              "    .dataframe tbody tr th {\n",
              "        vertical-align: top;\n",
              "    }\n",
              "\n",
              "    .dataframe thead th {\n",
              "        text-align: right;\n",
              "    }\n",
              "</style>\n",
              "<table border=\"1\" class=\"dataframe\">\n",
              "  <thead>\n",
              "    <tr style=\"text-align: right;\">\n",
              "      <th></th>\n",
              "      <th>Unit Price</th>\n",
              "      <th>Units</th>\n",
              "    </tr>\n",
              "    <tr>\n",
              "      <th>Region</th>\n",
              "      <th></th>\n",
              "      <th></th>\n",
              "    </tr>\n",
              "  </thead>\n",
              "  <tbody>\n",
              "    <tr>\n",
              "      <th>Central</th>\n",
              "      <td>18.018750</td>\n",
              "      <td>49.958333</td>\n",
              "    </tr>\n",
              "    <tr>\n",
              "      <th>East</th>\n",
              "      <td>9.143846</td>\n",
              "      <td>53.153846</td>\n",
              "    </tr>\n",
              "    <tr>\n",
              "      <th>West</th>\n",
              "      <td>53.658333</td>\n",
              "      <td>38.500000</td>\n",
              "    </tr>\n",
              "  </tbody>\n",
              "</table>\n",
              "</div>\n",
              "      <button class=\"colab-df-convert\" onclick=\"convertToInteractive('df-0bad452b-dfbf-445a-91bb-9b96ac453a9a')\"\n",
              "              title=\"Convert this dataframe to an interactive table.\"\n",
              "              style=\"display:none;\">\n",
              "        \n",
              "  <svg xmlns=\"http://www.w3.org/2000/svg\" height=\"24px\"viewBox=\"0 0 24 24\"\n",
              "       width=\"24px\">\n",
              "    <path d=\"M0 0h24v24H0V0z\" fill=\"none\"/>\n",
              "    <path d=\"M18.56 5.44l.94 2.06.94-2.06 2.06-.94-2.06-.94-.94-2.06-.94 2.06-2.06.94zm-11 1L8.5 8.5l.94-2.06 2.06-.94-2.06-.94L8.5 2.5l-.94 2.06-2.06.94zm10 10l.94 2.06.94-2.06 2.06-.94-2.06-.94-.94-2.06-.94 2.06-2.06.94z\"/><path d=\"M17.41 7.96l-1.37-1.37c-.4-.4-.92-.59-1.43-.59-.52 0-1.04.2-1.43.59L10.3 9.45l-7.72 7.72c-.78.78-.78 2.05 0 2.83L4 21.41c.39.39.9.59 1.41.59.51 0 1.02-.2 1.41-.59l7.78-7.78 2.81-2.81c.8-.78.8-2.07 0-2.86zM5.41 20L4 18.59l7.72-7.72 1.47 1.35L5.41 20z\"/>\n",
              "  </svg>\n",
              "      </button>\n",
              "      \n",
              "  <style>\n",
              "    .colab-df-container {\n",
              "      display:flex;\n",
              "      flex-wrap:wrap;\n",
              "      gap: 12px;\n",
              "    }\n",
              "\n",
              "    .colab-df-convert {\n",
              "      background-color: #E8F0FE;\n",
              "      border: none;\n",
              "      border-radius: 50%;\n",
              "      cursor: pointer;\n",
              "      display: none;\n",
              "      fill: #1967D2;\n",
              "      height: 32px;\n",
              "      padding: 0 0 0 0;\n",
              "      width: 32px;\n",
              "    }\n",
              "\n",
              "    .colab-df-convert:hover {\n",
              "      background-color: #E2EBFA;\n",
              "      box-shadow: 0px 1px 2px rgba(60, 64, 67, 0.3), 0px 1px 3px 1px rgba(60, 64, 67, 0.15);\n",
              "      fill: #174EA6;\n",
              "    }\n",
              "\n",
              "    [theme=dark] .colab-df-convert {\n",
              "      background-color: #3B4455;\n",
              "      fill: #D2E3FC;\n",
              "    }\n",
              "\n",
              "    [theme=dark] .colab-df-convert:hover {\n",
              "      background-color: #434B5C;\n",
              "      box-shadow: 0px 1px 3px 1px rgba(0, 0, 0, 0.15);\n",
              "      filter: drop-shadow(0px 1px 2px rgba(0, 0, 0, 0.3));\n",
              "      fill: #FFFFFF;\n",
              "    }\n",
              "  </style>\n",
              "\n",
              "      <script>\n",
              "        const buttonEl =\n",
              "          document.querySelector('#df-0bad452b-dfbf-445a-91bb-9b96ac453a9a button.colab-df-convert');\n",
              "        buttonEl.style.display =\n",
              "          google.colab.kernel.accessAllowed ? 'block' : 'none';\n",
              "\n",
              "        async function convertToInteractive(key) {\n",
              "          const element = document.querySelector('#df-0bad452b-dfbf-445a-91bb-9b96ac453a9a');\n",
              "          const dataTable =\n",
              "            await google.colab.kernel.invokeFunction('convertToInteractive',\n",
              "                                                     [key], {});\n",
              "          if (!dataTable) return;\n",
              "\n",
              "          const docLinkHtml = 'Like what you see? Visit the ' +\n",
              "            '<a target=\"_blank\" href=https://colab.research.google.com/notebooks/data_table.ipynb>data table notebook</a>'\n",
              "            + ' to learn more about interactive tables.';\n",
              "          element.innerHTML = '';\n",
              "          dataTable['output_type'] = 'display_data';\n",
              "          await google.colab.output.renderOutput(dataTable, element);\n",
              "          const docLink = document.createElement('div');\n",
              "          docLink.innerHTML = docLinkHtml;\n",
              "          element.appendChild(docLink);\n",
              "        }\n",
              "      </script>\n",
              "    </div>\n",
              "  </div>\n",
              "  "
            ]
          },
          "metadata": {},
          "execution_count": 231
        }
      ]
    },
    {
      "cell_type": "markdown",
      "source": [
        "6)\tTotal units for each region and item type in one code sentence. Use the pivot_table() method. Fill the missing values with 0."
      ],
      "metadata": {
        "id": "Nv6G96_atKFn"
      }
    },
    {
      "cell_type": "code",
      "source": [
        "pd.pivot_table(df,index=[\"Region\" , \"Item\"],values=[\"Units\"], fill_value=0, aggfunc=np.sum)\n"
      ],
      "metadata": {
        "colab": {
          "base_uri": "https://localhost:8080/",
          "height": 488
        },
        "id": "LpptrUNUtMfT",
        "outputId": "b6b2885c-de23-4367-9b0e-b148d89a0c8b"
      },
      "execution_count": 232,
      "outputs": [
        {
          "output_type": "execute_result",
          "data": {
            "text/plain": [
              "                 Units\n",
              "Region  Item          \n",
              "Central Binder     424\n",
              "        Desk         7\n",
              "        Pen         27\n",
              "        Pen Set    243\n",
              "        Pencil     498\n",
              "East    Binder     234\n",
              "        Pen        175\n",
              "        Pen Set    152\n",
              "        Pencil     130\n",
              "West    Binder      64\n",
              "        Desk         3\n",
              "        Pen         76\n",
              "        Pencil      88"
            ],
            "text/html": [
              "\n",
              "  <div id=\"df-701360aa-bc5b-4982-8f69-7fa994f07f41\">\n",
              "    <div class=\"colab-df-container\">\n",
              "      <div>\n",
              "<style scoped>\n",
              "    .dataframe tbody tr th:only-of-type {\n",
              "        vertical-align: middle;\n",
              "    }\n",
              "\n",
              "    .dataframe tbody tr th {\n",
              "        vertical-align: top;\n",
              "    }\n",
              "\n",
              "    .dataframe thead th {\n",
              "        text-align: right;\n",
              "    }\n",
              "</style>\n",
              "<table border=\"1\" class=\"dataframe\">\n",
              "  <thead>\n",
              "    <tr style=\"text-align: right;\">\n",
              "      <th></th>\n",
              "      <th></th>\n",
              "      <th>Units</th>\n",
              "    </tr>\n",
              "    <tr>\n",
              "      <th>Region</th>\n",
              "      <th>Item</th>\n",
              "      <th></th>\n",
              "    </tr>\n",
              "  </thead>\n",
              "  <tbody>\n",
              "    <tr>\n",
              "      <th rowspan=\"5\" valign=\"top\">Central</th>\n",
              "      <th>Binder</th>\n",
              "      <td>424</td>\n",
              "    </tr>\n",
              "    <tr>\n",
              "      <th>Desk</th>\n",
              "      <td>7</td>\n",
              "    </tr>\n",
              "    <tr>\n",
              "      <th>Pen</th>\n",
              "      <td>27</td>\n",
              "    </tr>\n",
              "    <tr>\n",
              "      <th>Pen Set</th>\n",
              "      <td>243</td>\n",
              "    </tr>\n",
              "    <tr>\n",
              "      <th>Pencil</th>\n",
              "      <td>498</td>\n",
              "    </tr>\n",
              "    <tr>\n",
              "      <th rowspan=\"4\" valign=\"top\">East</th>\n",
              "      <th>Binder</th>\n",
              "      <td>234</td>\n",
              "    </tr>\n",
              "    <tr>\n",
              "      <th>Pen</th>\n",
              "      <td>175</td>\n",
              "    </tr>\n",
              "    <tr>\n",
              "      <th>Pen Set</th>\n",
              "      <td>152</td>\n",
              "    </tr>\n",
              "    <tr>\n",
              "      <th>Pencil</th>\n",
              "      <td>130</td>\n",
              "    </tr>\n",
              "    <tr>\n",
              "      <th rowspan=\"4\" valign=\"top\">West</th>\n",
              "      <th>Binder</th>\n",
              "      <td>64</td>\n",
              "    </tr>\n",
              "    <tr>\n",
              "      <th>Desk</th>\n",
              "      <td>3</td>\n",
              "    </tr>\n",
              "    <tr>\n",
              "      <th>Pen</th>\n",
              "      <td>76</td>\n",
              "    </tr>\n",
              "    <tr>\n",
              "      <th>Pencil</th>\n",
              "      <td>88</td>\n",
              "    </tr>\n",
              "  </tbody>\n",
              "</table>\n",
              "</div>\n",
              "      <button class=\"colab-df-convert\" onclick=\"convertToInteractive('df-701360aa-bc5b-4982-8f69-7fa994f07f41')\"\n",
              "              title=\"Convert this dataframe to an interactive table.\"\n",
              "              style=\"display:none;\">\n",
              "        \n",
              "  <svg xmlns=\"http://www.w3.org/2000/svg\" height=\"24px\"viewBox=\"0 0 24 24\"\n",
              "       width=\"24px\">\n",
              "    <path d=\"M0 0h24v24H0V0z\" fill=\"none\"/>\n",
              "    <path d=\"M18.56 5.44l.94 2.06.94-2.06 2.06-.94-2.06-.94-.94-2.06-.94 2.06-2.06.94zm-11 1L8.5 8.5l.94-2.06 2.06-.94-2.06-.94L8.5 2.5l-.94 2.06-2.06.94zm10 10l.94 2.06.94-2.06 2.06-.94-2.06-.94-.94-2.06-.94 2.06-2.06.94z\"/><path d=\"M17.41 7.96l-1.37-1.37c-.4-.4-.92-.59-1.43-.59-.52 0-1.04.2-1.43.59L10.3 9.45l-7.72 7.72c-.78.78-.78 2.05 0 2.83L4 21.41c.39.39.9.59 1.41.59.51 0 1.02-.2 1.41-.59l7.78-7.78 2.81-2.81c.8-.78.8-2.07 0-2.86zM5.41 20L4 18.59l7.72-7.72 1.47 1.35L5.41 20z\"/>\n",
              "  </svg>\n",
              "      </button>\n",
              "      \n",
              "  <style>\n",
              "    .colab-df-container {\n",
              "      display:flex;\n",
              "      flex-wrap:wrap;\n",
              "      gap: 12px;\n",
              "    }\n",
              "\n",
              "    .colab-df-convert {\n",
              "      background-color: #E8F0FE;\n",
              "      border: none;\n",
              "      border-radius: 50%;\n",
              "      cursor: pointer;\n",
              "      display: none;\n",
              "      fill: #1967D2;\n",
              "      height: 32px;\n",
              "      padding: 0 0 0 0;\n",
              "      width: 32px;\n",
              "    }\n",
              "\n",
              "    .colab-df-convert:hover {\n",
              "      background-color: #E2EBFA;\n",
              "      box-shadow: 0px 1px 2px rgba(60, 64, 67, 0.3), 0px 1px 3px 1px rgba(60, 64, 67, 0.15);\n",
              "      fill: #174EA6;\n",
              "    }\n",
              "\n",
              "    [theme=dark] .colab-df-convert {\n",
              "      background-color: #3B4455;\n",
              "      fill: #D2E3FC;\n",
              "    }\n",
              "\n",
              "    [theme=dark] .colab-df-convert:hover {\n",
              "      background-color: #434B5C;\n",
              "      box-shadow: 0px 1px 3px 1px rgba(0, 0, 0, 0.15);\n",
              "      filter: drop-shadow(0px 1px 2px rgba(0, 0, 0, 0.3));\n",
              "      fill: #FFFFFF;\n",
              "    }\n",
              "  </style>\n",
              "\n",
              "      <script>\n",
              "        const buttonEl =\n",
              "          document.querySelector('#df-701360aa-bc5b-4982-8f69-7fa994f07f41 button.colab-df-convert');\n",
              "        buttonEl.style.display =\n",
              "          google.colab.kernel.accessAllowed ? 'block' : 'none';\n",
              "\n",
              "        async function convertToInteractive(key) {\n",
              "          const element = document.querySelector('#df-701360aa-bc5b-4982-8f69-7fa994f07f41');\n",
              "          const dataTable =\n",
              "            await google.colab.kernel.invokeFunction('convertToInteractive',\n",
              "                                                     [key], {});\n",
              "          if (!dataTable) return;\n",
              "\n",
              "          const docLinkHtml = 'Like what you see? Visit the ' +\n",
              "            '<a target=\"_blank\" href=https://colab.research.google.com/notebooks/data_table.ipynb>data table notebook</a>'\n",
              "            + ' to learn more about interactive tables.';\n",
              "          element.innerHTML = '';\n",
              "          dataTable['output_type'] = 'display_data';\n",
              "          await google.colab.output.renderOutput(dataTable, element);\n",
              "          const docLink = document.createElement('div');\n",
              "          docLink.innerHTML = docLinkHtml;\n",
              "          element.appendChild(docLink);\n",
              "        }\n",
              "      </script>\n",
              "    </div>\n",
              "  </div>\n",
              "  "
            ]
          },
          "metadata": {},
          "execution_count": 232
        }
      ]
    },
    {
      "cell_type": "markdown",
      "source": [
        "7)\tTotal sales amount for each region and item type in one code sentence. Use the pivot_table() method. Fill the missing values with 0."
      ],
      "metadata": {
        "id": "L1zTMXr4tTSs"
      }
    },
    {
      "cell_type": "code",
      "source": [
        "pd.pivot_table(df,index=[\"Region\" , \"Item\"],values=[\"Amount\"], fill_value=0, aggfunc=np.sum)"
      ],
      "metadata": {
        "colab": {
          "base_uri": "https://localhost:8080/",
          "height": 488
        },
        "id": "QHjwWMzctYJo",
        "outputId": "109c5cf3-73fb-4ede-cdcb-d8c5a53aeab7"
      },
      "execution_count": 233,
      "outputs": [
        {
          "output_type": "execute_result",
          "data": {
            "text/plain": [
              "                  Amount\n",
              "Region  Item            \n",
              "Central Binder   5762.63\n",
              "        Desk      875.00\n",
              "        Pen       539.73\n",
              "        Pen Set  2421.39\n",
              "        Pencil   1540.32\n",
              "East    Binder   2535.66\n",
              "        Pen      1354.25\n",
              "        Pen Set  1748.48\n",
              "        Pencil    363.70\n",
              "West    Binder   1279.36\n",
              "        Desk      825.00\n",
              "        Pen       151.24\n",
              "        Pencil    231.12"
            ],
            "text/html": [
              "\n",
              "  <div id=\"df-ef3ec78c-01c4-41f2-8d3e-1a0d061d6335\">\n",
              "    <div class=\"colab-df-container\">\n",
              "      <div>\n",
              "<style scoped>\n",
              "    .dataframe tbody tr th:only-of-type {\n",
              "        vertical-align: middle;\n",
              "    }\n",
              "\n",
              "    .dataframe tbody tr th {\n",
              "        vertical-align: top;\n",
              "    }\n",
              "\n",
              "    .dataframe thead th {\n",
              "        text-align: right;\n",
              "    }\n",
              "</style>\n",
              "<table border=\"1\" class=\"dataframe\">\n",
              "  <thead>\n",
              "    <tr style=\"text-align: right;\">\n",
              "      <th></th>\n",
              "      <th></th>\n",
              "      <th>Amount</th>\n",
              "    </tr>\n",
              "    <tr>\n",
              "      <th>Region</th>\n",
              "      <th>Item</th>\n",
              "      <th></th>\n",
              "    </tr>\n",
              "  </thead>\n",
              "  <tbody>\n",
              "    <tr>\n",
              "      <th rowspan=\"5\" valign=\"top\">Central</th>\n",
              "      <th>Binder</th>\n",
              "      <td>5762.63</td>\n",
              "    </tr>\n",
              "    <tr>\n",
              "      <th>Desk</th>\n",
              "      <td>875.00</td>\n",
              "    </tr>\n",
              "    <tr>\n",
              "      <th>Pen</th>\n",
              "      <td>539.73</td>\n",
              "    </tr>\n",
              "    <tr>\n",
              "      <th>Pen Set</th>\n",
              "      <td>2421.39</td>\n",
              "    </tr>\n",
              "    <tr>\n",
              "      <th>Pencil</th>\n",
              "      <td>1540.32</td>\n",
              "    </tr>\n",
              "    <tr>\n",
              "      <th rowspan=\"4\" valign=\"top\">East</th>\n",
              "      <th>Binder</th>\n",
              "      <td>2535.66</td>\n",
              "    </tr>\n",
              "    <tr>\n",
              "      <th>Pen</th>\n",
              "      <td>1354.25</td>\n",
              "    </tr>\n",
              "    <tr>\n",
              "      <th>Pen Set</th>\n",
              "      <td>1748.48</td>\n",
              "    </tr>\n",
              "    <tr>\n",
              "      <th>Pencil</th>\n",
              "      <td>363.70</td>\n",
              "    </tr>\n",
              "    <tr>\n",
              "      <th rowspan=\"4\" valign=\"top\">West</th>\n",
              "      <th>Binder</th>\n",
              "      <td>1279.36</td>\n",
              "    </tr>\n",
              "    <tr>\n",
              "      <th>Desk</th>\n",
              "      <td>825.00</td>\n",
              "    </tr>\n",
              "    <tr>\n",
              "      <th>Pen</th>\n",
              "      <td>151.24</td>\n",
              "    </tr>\n",
              "    <tr>\n",
              "      <th>Pencil</th>\n",
              "      <td>231.12</td>\n",
              "    </tr>\n",
              "  </tbody>\n",
              "</table>\n",
              "</div>\n",
              "      <button class=\"colab-df-convert\" onclick=\"convertToInteractive('df-ef3ec78c-01c4-41f2-8d3e-1a0d061d6335')\"\n",
              "              title=\"Convert this dataframe to an interactive table.\"\n",
              "              style=\"display:none;\">\n",
              "        \n",
              "  <svg xmlns=\"http://www.w3.org/2000/svg\" height=\"24px\"viewBox=\"0 0 24 24\"\n",
              "       width=\"24px\">\n",
              "    <path d=\"M0 0h24v24H0V0z\" fill=\"none\"/>\n",
              "    <path d=\"M18.56 5.44l.94 2.06.94-2.06 2.06-.94-2.06-.94-.94-2.06-.94 2.06-2.06.94zm-11 1L8.5 8.5l.94-2.06 2.06-.94-2.06-.94L8.5 2.5l-.94 2.06-2.06.94zm10 10l.94 2.06.94-2.06 2.06-.94-2.06-.94-.94-2.06-.94 2.06-2.06.94z\"/><path d=\"M17.41 7.96l-1.37-1.37c-.4-.4-.92-.59-1.43-.59-.52 0-1.04.2-1.43.59L10.3 9.45l-7.72 7.72c-.78.78-.78 2.05 0 2.83L4 21.41c.39.39.9.59 1.41.59.51 0 1.02-.2 1.41-.59l7.78-7.78 2.81-2.81c.8-.78.8-2.07 0-2.86zM5.41 20L4 18.59l7.72-7.72 1.47 1.35L5.41 20z\"/>\n",
              "  </svg>\n",
              "      </button>\n",
              "      \n",
              "  <style>\n",
              "    .colab-df-container {\n",
              "      display:flex;\n",
              "      flex-wrap:wrap;\n",
              "      gap: 12px;\n",
              "    }\n",
              "\n",
              "    .colab-df-convert {\n",
              "      background-color: #E8F0FE;\n",
              "      border: none;\n",
              "      border-radius: 50%;\n",
              "      cursor: pointer;\n",
              "      display: none;\n",
              "      fill: #1967D2;\n",
              "      height: 32px;\n",
              "      padding: 0 0 0 0;\n",
              "      width: 32px;\n",
              "    }\n",
              "\n",
              "    .colab-df-convert:hover {\n",
              "      background-color: #E2EBFA;\n",
              "      box-shadow: 0px 1px 2px rgba(60, 64, 67, 0.3), 0px 1px 3px 1px rgba(60, 64, 67, 0.15);\n",
              "      fill: #174EA6;\n",
              "    }\n",
              "\n",
              "    [theme=dark] .colab-df-convert {\n",
              "      background-color: #3B4455;\n",
              "      fill: #D2E3FC;\n",
              "    }\n",
              "\n",
              "    [theme=dark] .colab-df-convert:hover {\n",
              "      background-color: #434B5C;\n",
              "      box-shadow: 0px 1px 3px 1px rgba(0, 0, 0, 0.15);\n",
              "      filter: drop-shadow(0px 1px 2px rgba(0, 0, 0, 0.3));\n",
              "      fill: #FFFFFF;\n",
              "    }\n",
              "  </style>\n",
              "\n",
              "      <script>\n",
              "        const buttonEl =\n",
              "          document.querySelector('#df-ef3ec78c-01c4-41f2-8d3e-1a0d061d6335 button.colab-df-convert');\n",
              "        buttonEl.style.display =\n",
              "          google.colab.kernel.accessAllowed ? 'block' : 'none';\n",
              "\n",
              "        async function convertToInteractive(key) {\n",
              "          const element = document.querySelector('#df-ef3ec78c-01c4-41f2-8d3e-1a0d061d6335');\n",
              "          const dataTable =\n",
              "            await google.colab.kernel.invokeFunction('convertToInteractive',\n",
              "                                                     [key], {});\n",
              "          if (!dataTable) return;\n",
              "\n",
              "          const docLinkHtml = 'Like what you see? Visit the ' +\n",
              "            '<a target=\"_blank\" href=https://colab.research.google.com/notebooks/data_table.ipynb>data table notebook</a>'\n",
              "            + ' to learn more about interactive tables.';\n",
              "          element.innerHTML = '';\n",
              "          dataTable['output_type'] = 'display_data';\n",
              "          await google.colab.output.renderOutput(dataTable, element);\n",
              "          const docLink = document.createElement('div');\n",
              "          docLink.innerHTML = docLinkHtml;\n",
              "          element.appendChild(docLink);\n",
              "        }\n",
              "      </script>\n",
              "    </div>\n",
              "  </div>\n",
              "  "
            ]
          },
          "metadata": {},
          "execution_count": 233
        }
      ]
    },
    {
      "cell_type": "markdown",
      "source": [
        "4.\tAnswer the following questions."
      ],
      "metadata": {
        "id": "xieP7ZSVdjNt"
      }
    },
    {
      "cell_type": "code",
      "source": [
        "import pandas as pd\n",
        "import numpy as np\n",
        "import os\n",
        "import matplotlib.pyplot as plt\n",
        "%matplotlib inline\n",
        "\n",
        "\n",
        "# Go to the directory where the data file is located. \n",
        "# os.chdir(r'~~')                # Please, replace the path with your own.\n",
        "df = pd.read_csv('data_coffeeshop.csv', header='infer',na_values=[' '])\n",
        "df.shape\n",
        "df.head(5)\n",
        "df.isnull().sum()\n"
      ],
      "metadata": {
        "colab": {
          "base_uri": "https://localhost:8080/"
        },
        "id": "Fs8BsKr4dtCk",
        "outputId": "bc38a904-1577-49da-95c4-3bb27e978876"
      },
      "execution_count": 201,
      "outputs": [
        {
          "output_type": "execute_result",
          "data": {
            "text/plain": [
              "Year of Start    19\n",
              "Current State    19\n",
              "Size of Site     19\n",
              "dtype: int64"
            ]
          },
          "metadata": {},
          "execution_count": 201
        }
      ]
    },
    {
      "cell_type": "markdown",
      "source": [
        "1) Make a frequency table of 'yearOfStart' and visualize by year.\n",
        "•\tSort by the year.\n",
        "•\tDraw a line plot from 1997 to 2014. <= Hint: plt.xlim()\n"
      ],
      "metadata": {
        "id": "TePnffUHdnMW"
      }
    },
    {
      "cell_type": "code",
      "source": [
        "df['Year of Start'].mean()\n",
        "df['Year of Start'].fillna(2010)\n",
        "df['Size of Site'].mean()\n",
        "df['Size of Site'].fillna(76)\n",
        "df['Current State'].fillna('In')"
      ],
      "metadata": {
        "colab": {
          "base_uri": "https://localhost:8080/"
        },
        "id": "uPU2wtS2k5hT",
        "outputId": "a06bf2bf-7531-4155-ccc7-9fa42f97f551"
      },
      "execution_count": 209,
      "outputs": [
        {
          "output_type": "execute_result",
          "data": {
            "text/plain": [
              "0         In\n",
              "1         In\n",
              "2         In\n",
              "3         In\n",
              "4        Out\n",
              "        ... \n",
              "43177    Out\n",
              "43178     In\n",
              "43179     In\n",
              "43180    Out\n",
              "43181     In\n",
              "Name: Current State, Length: 43182, dtype: object"
            ]
          },
          "metadata": {},
          "execution_count": 209
        }
      ]
    },
    {
      "cell_type": "code",
      "source": [
        "years= df['Year of Start']\n",
        "t = years.value_counts()\n",
        "f_table=t.sort_index()\n",
        "print (f_table.head(10))\n",
        "fig = plt.figure()\n",
        "ax = plt.axes()\n",
        "plt.xlim([1997,2014])\n",
        "ax.plot(f_table.index, f_table.values)"
      ],
      "metadata": {
        "colab": {
          "base_uri": "https://localhost:8080/",
          "height": 473
        },
        "id": "uJc2A7cDd_9Y",
        "outputId": "ae654b76-2098-44a2-e182-55ee9bedc8d7"
      },
      "execution_count": 216,
      "outputs": [
        {
          "output_type": "stream",
          "name": "stdout",
          "text": [
            "1964.0    2\n",
            "1966.0    2\n",
            "1967.0    3\n",
            "1968.0    1\n",
            "1969.0    2\n",
            "1970.0    4\n",
            "1971.0    6\n",
            "1972.0    3\n",
            "1974.0    1\n",
            "1975.0    2\n",
            "Name: Year of Start, dtype: int64\n"
          ]
        },
        {
          "output_type": "execute_result",
          "data": {
            "text/plain": [
              "[<matplotlib.lines.Line2D at 0x7f9d8c685810>]"
            ]
          },
          "metadata": {},
          "execution_count": 216
        },
        {
          "output_type": "display_data",
          "data": {
            "text/plain": [
              "<Figure size 432x288 with 1 Axes>"
            ],
            "image/png": "[encoded data removed]"
          },
          "metadata": {
            "needs_background": "light"
          }
        }
      ]
    },
    {
      "cell_type": "markdown",
      "source": [
        "2) Split the data by the current state of business ('In' or 'Out' of business). Then, visualize the yearly trend of the 'yearOfStart' frequencies.\n",
        "\n",
        "•\tSort by the year.\n",
        "\n",
        "•\tDraw two overlapping line plots from 1997 to 2014.\n",
        "\n",
        "•\tUse the 'figure' object.\n"
      ],
      "metadata": {
        "id": "4ldoYEHJhp-W"
      }
    },
    {
      "cell_type": "code",
      "source": [
        "dr=df.groupby(['Current State']).groups.items()\n",
        "\n",
        "dr1=df[df['Current State']==\"In\"]['Year of Start']\n",
        "dr2=df[df['Current State']==\"Out\"]['Year of Start']\n",
        "tab1 = dr1.value_counts()\n",
        "tab2 = dr2.value_counts()\n",
        "f_table1=tab1.sort_index()\n",
        "f_table2=tab2.sort_index()\n",
        "\n"
      ],
      "metadata": {
        "id": "fbIVbwDNiHmP"
      },
      "execution_count": 223,
      "outputs": []
    },
    {
      "cell_type": "code",
      "source": [
        "fig = plt.figure()\n",
        "ax = plt.axes()\n",
        "plt.xlim([1997,2014])\n",
        "ax.plot(f_table1.index, f_table1.values, c='yellow')\n",
        "ax.plot(f_table2.index, f_table2.values, c='green')"
      ],
      "metadata": {
        "colab": {
          "base_uri": "https://localhost:8080/",
          "height": 282
        },
        "id": "WUFsnep3m50n",
        "outputId": "0bce1e08-59e1-4fb8-e448-c5e4a913985c"
      },
      "execution_count": 220,
      "outputs": [
        {
          "output_type": "execute_result",
          "data": {
            "text/plain": [
              "[<matplotlib.lines.Line2D at 0x7f9d8c508750>]"
            ]
          },
          "metadata": {},
          "execution_count": 220
        },
        {
          "output_type": "display_data",
          "data": {
            "text/plain": [
              "<Figure size 432x288 with 1 Axes>"
            ],
            "image/png": "[encoded data removed]"
          },
          "metadata": {
            "needs_background": "light"
          }
        }
      ]
    },
    {
      "cell_type": "markdown",
      "source": [
        "3) From the results of 1) and 2), how can you describe the trend in general?"
      ],
      "metadata": {
        "id": "_lJQE9PnnJJh"
      }
    },
    {
      "cell_type": "markdown",
      "source": [
        "\n",
        "\n",
        "*   in 2009 the amount of new coffeshops increse \n",
        "*   and the coffe shops that are in business are more than coffe shops out \n",
        "\n"
      ],
      "metadata": {
        "id": "-oRdVRlanKgt"
      }
    }
  ]
}